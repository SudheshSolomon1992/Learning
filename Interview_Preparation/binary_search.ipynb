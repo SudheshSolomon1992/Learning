{
 "cells": [
  {
   "cell_type": "markdown",
   "metadata": {},
   "source": [
    "#### Search 2D Matrix (NEETCODE) - MEDIUM\n",
    "\n",
    "You are given an m x n 2-D integer array matrix and an integer target.\n",
    "\n",
    "Each row in matrix is sorted in non-decreasing order.\n",
    "The first integer of every row is greater than the last integer of the previous row.\n",
    "Return true if target exists within matrix or false otherwise.\n",
    "\n",
    "Can you write a solution that runs in O(log(m * n)) time?"
   ]
  },
  {
   "cell_type": "code",
   "execution_count": 4,
   "metadata": {},
   "outputs": [
    {
     "name": "stdout",
     "output_type": "stream",
     "text": [
      "True\n"
     ]
    }
   ],
   "source": [
    "def searchMatrix(matrix, target):\n",
    "    ROWS, COLS = len(matrix), len(matrix[0])\n",
    "\n",
    "    top, bot = 0, ROWS - 1\n",
    "    if not top <= bot:\n",
    "        return False\n",
    "\n",
    "    while top <= bot:\n",
    "        row = (top + bot) // 2\n",
    "        if target > matrix[row][-1]:\n",
    "            top = row + 1\n",
    "        elif target < matrix[row][0]:\n",
    "            bot = row - 1\n",
    "        else:\n",
    "            break\n",
    "    \n",
    "    row = (top + bot) // 2\n",
    "    left, right = 0, COLS - 1\n",
    "    while left <= right:\n",
    "        mid = (left + right) // 2\n",
    "        if target > matrix[row][mid]:\n",
    "            left = mid + 1\n",
    "        elif target < matrix[row][mid]:\n",
    "            right = mid - 1\n",
    "        else:\n",
    "            return True\n",
    "    return False\n",
    "\n",
    "matrix = [[1,2,4,8],[10,11,12,13],[14,20,30,40]]\n",
    "target = 10\n",
    "print (searchMatrix(matrix, target))"
   ]
  },
  {
   "cell_type": "markdown",
   "metadata": {},
   "source": [
    "#### Binary Search (NEETCODE) - EASY\n",
    "\n",
    "You are given an array of distinct integers nums, sorted in ascending order, and an integer target.\n",
    "\n",
    "Implement a function to search for target within nums. If it exists, then return its index, otherwise, return -1.\n",
    "\n",
    "Your solution must run in O(logn) time."
   ]
  },
  {
   "cell_type": "code",
   "execution_count": 5,
   "metadata": {},
   "outputs": [
    {
     "name": "stdout",
     "output_type": "stream",
     "text": [
      "3\n"
     ]
    }
   ],
   "source": [
    "def search(nums, target):\n",
    "    left, right = 0, len(nums) - 1\n",
    "    while left <= right:\n",
    "        mid = (left + (right - left) // 2) # (left + right)//2 might lead to overflow\n",
    "        if nums[mid] > target:\n",
    "            right = mid - 1\n",
    "        elif nums[mid] < target:\n",
    "            left = mid + 1\n",
    "        else:\n",
    "            return mid\n",
    "    return -1\n",
    "\n",
    "nums = [-1,0,2,4,6,8]\n",
    "target = 4\n",
    "print (search(nums, target))"
   ]
  },
  {
   "cell_type": "markdown",
   "metadata": {},
   "source": [
    "#### Search Insert Position (LEETCODE 35) - EASY"
   ]
  },
  {
   "cell_type": "code",
   "execution_count": null,
   "metadata": {},
   "outputs": [],
   "source": [
    "def searchInsert(nums, target):\n",
    "    left, right = 0, len(nums) - 1\n",
    "    while left <= right:\n",
    "        mid = left + (right - left) // 2\n",
    "        if nums[mid] < target:\n",
    "            left = mid + 1\n",
    "        elif nums[mid] > target:\n",
    "            right = mid - 1\n",
    "        else:\n",
    "            return mid\n",
    "        \n",
    "    if nums[mid] < target:\n",
    "        return mid + 1\n",
    "    else:\n",
    "        return mid\n",
    "    \n",
    "    # TC: O(logn)\n",
    "    # SC: O(1)"
   ]
  },
  {
   "cell_type": "markdown",
   "metadata": {},
   "source": [
    "#### Find Minimum in Rotated Sorted Array (NEETCODE) - MEDIUM\n",
    "\n",
    "You are given an array of length n which was originally sorted in ascending order. It has now been rotated between 1 and n times. For example, the array nums = [1,2,3,4,5,6] might become:\n",
    "\n",
    "[3,4,5,6,1,2] if it was rotated 4 times.\n",
    "[1,2,3,4,5,6] if it was rotated 6 times.\n",
    "Notice that rotating the array 4 times moves the last four elements of the array to the beginning. Rotating the array 6 times produces the original array.\n",
    "\n",
    "Assuming all elements in the rotated sorted array nums are unique, return the minimum element of this array.\n",
    "\n",
    "A solution that runs in O(n) time is trivial, can you write an algorithm that runs in O(log n) time?"
   ]
  },
  {
   "cell_type": "code",
   "execution_count": 2,
   "metadata": {},
   "outputs": [
    {
     "name": "stdout",
     "output_type": "stream",
     "text": [
      "0\n"
     ]
    }
   ],
   "source": [
    "def findMin(nums):\n",
    "    start, end = 0, len(nums) - 1\n",
    "    current_min = float(\"inf\")\n",
    "    while start < end:\n",
    "        mid = start + ((end - start) // 2)\n",
    "        current_min = min(current_min, nums[mid])\n",
    "\n",
    "        if nums[mid] > nums[end]:\n",
    "            start = mid + 1\n",
    "        else:\n",
    "            end = mid - 1\n",
    "    \n",
    "    return min(current_min, nums[start])\n",
    "\n",
    "nums = [4,5,0,1,2,3]\n",
    "# nums = [4,5,6,7]\n",
    "print (findMin(nums))"
   ]
  },
  {
   "cell_type": "markdown",
   "metadata": {},
   "source": [
    "#### Find Target in Rotated Sorted Array (LEETCODE 33) - MEDIUM\n",
    "\n",
    "You are given an array of length n which was originally sorted in ascending order. It has now been rotated between 1 and n times. For example, the array nums = [1,2,3,4,5,6] might become:\n",
    "\n",
    "[3,4,5,6,1,2] if it was rotated 4 times.\n",
    "[1,2,3,4,5,6] if it was rotated 6 times.\n",
    "Given the rotated sorted array nums and an integer target, return the index of target within nums, or -1 if it is not present.\n",
    "\n",
    "You may assume all elements in the sorted rotated array nums are unique,\n",
    "\n",
    "A solution that runs in O(n) time is trivial, can you write an algorithm that runs in O(log n) time?"
   ]
  },
  {
   "cell_type": "code",
   "execution_count": 6,
   "metadata": {},
   "outputs": [
    {
     "name": "stdout",
     "output_type": "stream",
     "text": [
      "-1\n"
     ]
    }
   ],
   "source": [
    "def search_partial(nums,target):\n",
    "    start, end = 0, len(nums) - 1\n",
    "    while start < end:\n",
    "        mid = start + ((end - start) // 2)\n",
    "        if nums[mid] == target:\n",
    "            return mid\n",
    "        if nums[mid] > nums[end]:\n",
    "            start = mid + 1\n",
    "        else:\n",
    "            end = mid - 1\n",
    "    return -1\n",
    "\n",
    "def search(nums, target):\n",
    "    left, right = 0, len(nums) - 1\n",
    "    while left <= right:\n",
    "        mid = left + ((right-left)//2)\n",
    "        if nums[mid] == target:\n",
    "            return mid\n",
    "        \n",
    "        if nums[left] <= nums[mid]:\n",
    "            if target > nums[mid] or target < nums[left]:\n",
    "                left = mid + 1\n",
    "            else:\n",
    "                right = mid - 1\n",
    "\n",
    "        else:\n",
    "            if target < nums[mid] or target > nums[right]:\n",
    "                right = mid - 1\n",
    "            else:\n",
    "                left = mid + 1\n",
    "    return -1\n",
    "\n",
    "\n",
    "# nums=[3,4,5,6,1,2]\n",
    "# target=1\n",
    "nums = [3,5,6,0,1,2]\n",
    "target = 4\n",
    "print (search(nums, target))\n",
    "\n",
    "# TC: O(log(n))\n",
    "# SC: O(1)"
   ]
  },
  {
   "cell_type": "markdown",
   "metadata": {},
   "source": [
    "#### First Bad Version (LEETCODE 278) - EASY"
   ]
  },
  {
   "cell_type": "code",
   "execution_count": null,
   "metadata": {},
   "outputs": [],
   "source": [
    "def firstBadVersion(n):\n",
    "    left, right = 1, n\n",
    "\n",
    "    while left < right:\n",
    "        mid = left + (right - left) // 2\n",
    "        # The isBadVersion API is already defined for you.\n",
    "        # It returns if a version is bad or not as a boolean\n",
    "        if isBadVersion(mid):\n",
    "            right = mid\n",
    "        else:\n",
    "            left = mid + 1\n",
    "\n",
    "    return left\n",
    "\n",
    "# TC: O(log n)\n",
    "# SC: O(1)"
   ]
  },
  {
   "cell_type": "markdown",
   "metadata": {},
   "source": [
    "#### Valid Perfect Square (LEETCODE 367) - EASY"
   ]
  },
  {
   "cell_type": "code",
   "execution_count": 8,
   "metadata": {},
   "outputs": [
    {
     "name": "stdout",
     "output_type": "stream",
     "text": [
      "False\n"
     ]
    }
   ],
   "source": [
    "def isValidPerfectSquare(n):\n",
    "    left, right = 0, n\n",
    "\n",
    "    while left <= right:\n",
    "        mid = left + (right - left) // 2\n",
    "\n",
    "        if mid * mid == n:\n",
    "            return True\n",
    "        \n",
    "        elif mid * mid < n:\n",
    "            left = mid + 1\n",
    "        \n",
    "        else:\n",
    "            right = mid - 1\n",
    "    \n",
    "    return False\n",
    "    \n",
    "n = 17\n",
    "print (isValidPerfectSquare(n))\n",
    "\n",
    "# TC: O(logn)\n",
    "# SC: O(1)"
   ]
  }
 ],
 "metadata": {
  "kernelspec": {
   "display_name": "Python 3",
   "language": "python",
   "name": "python3"
  },
  "language_info": {
   "codemirror_mode": {
    "name": "ipython",
    "version": 3
   },
   "file_extension": ".py",
   "mimetype": "text/x-python",
   "name": "python",
   "nbconvert_exporter": "python",
   "pygments_lexer": "ipython3",
   "version": "3.12.1"
  }
 },
 "nbformat": 4,
 "nbformat_minor": 2
}
