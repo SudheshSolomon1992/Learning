{
 "cells": [
  {
   "cell_type": "markdown",
   "metadata": {},
   "source": [
    "### Find the Difference of Two Arrays (LEETCODE 2215) - EASY"
   ]
  },
  {
   "cell_type": "code",
   "execution_count": 6,
   "metadata": {},
   "outputs": [
    {
     "name": "stdout",
     "output_type": "stream",
     "text": [
      "{1: [True, False]}\n",
      "{1: [True, False], 2: [True, False]}\n",
      "{1: [True, False], 2: [True, False], 3: [True, False]}\n",
      "---------------\n",
      "{1: [True, False], 2: [True, True], 3: [True, False]}\n",
      "{1: [True, False], 2: [True, True], 3: [True, False], 4: [False, True]}\n",
      "{1: [True, False], 2: [True, True], 3: [True, False], 4: [False, True], 6: [False, True]}\n",
      "[[1, 3], [4, 6]]\n"
     ]
    }
   ],
   "source": [
    "def findDifference(nums1, nums2):\n",
    "    hashtable = {}\n",
    "    first_true_second_false = []\n",
    "    second_true_first_false = []\n",
    "    for num in nums1:\n",
    "        if num not in hashtable:\n",
    "            hashtable[num] = [True, False]\n",
    "        print (hashtable)\n",
    "    print (\"---------------\")\n",
    "    for num in nums2:\n",
    "        if num in hashtable:\n",
    "            hashtable[num][1] = True\n",
    "        else:\n",
    "            hashtable[num] = [False, True]\n",
    "        print (hashtable)\n",
    "    \n",
    "    for key, value in hashtable.items():\n",
    "        # If value is [True, False] - element present in first list and not present in second list\n",
    "        if value[0] and not value[1]:\n",
    "            first_true_second_false.append(key)\n",
    "        # If value is [False, True] - element present in second list and not present in first list\n",
    "        if not value[0] and value[1]:\n",
    "            second_true_first_false.append(key)\n",
    "\n",
    "    return[first_true_second_false, second_true_first_false]\n",
    "\n",
    "nums1 = [1,2,3]\n",
    "nums2 = [2,4,6]\n",
    "out = findDifference(nums1, nums2)\n",
    "print (out)\n"
   ]
  },
  {
   "cell_type": "markdown",
   "metadata": {},
   "source": [
    "#### Unique Number of Occurrences (LEETCODE 1207) - EASY"
   ]
  },
  {
   "cell_type": "code",
   "execution_count": 15,
   "metadata": {},
   "outputs": [
    {
     "name": "stdout",
     "output_type": "stream",
     "text": [
      "{3: 1, 5: 1, -2: 1, -3: 1, -6: 2}\n",
      "Before sorting: [1, 1, 1, 1, 2]\n",
      "After sorting: [1, 1, 1, 1, 2]\n",
      "1, 1\n",
      "False\n"
     ]
    }
   ],
   "source": [
    "def uniqueOccurrences(arr):\n",
    "    hashtable = {}\n",
    "    value_occurence = []\n",
    "    for num in arr:\n",
    "        if num not in hashtable:\n",
    "            hashtable[num] = 1\n",
    "        else:\n",
    "            hashtable[num] += 1\n",
    "    \n",
    "    for key, value in hashtable.items():\n",
    "        value_occurence.append(value)\n",
    "\n",
    "    value_occurence.sort()\n",
    "    for index in range(len(value_occurence)-1):\n",
    "        if value_occurence[index] == value_occurence[index + 1]:\n",
    "            return False\n",
    "    return True\n",
    "\n",
    "\n",
    "arr = [3,5,-2,-3,-6,-6]\n",
    "out = uniqueOccurrences(arr)\n",
    "print (out)"
   ]
  },
  {
   "cell_type": "markdown",
   "metadata": {},
   "source": []
  },
  {
   "cell_type": "code",
   "execution_count": 21,
   "metadata": {},
   "outputs": [
    {
     "name": "stdout",
     "output_type": "stream",
     "text": [
      "{'a': 2, 'b': 1, 'c': 1}\n",
      "{'b': 1, 'c': 2, 'a': 1}\n",
      "{'a', 'b', 'c'}\n",
      "{'a', 'b', 'c'}\n",
      "[2, 1, 1]\n",
      "[1, 2, 1]\n",
      "True\n"
     ]
    }
   ],
   "source": [
    "def closeStrings(word1, word2):\n",
    "    if len(word1) != len(word2):\n",
    "        return False\n",
    "    \n",
    "    hashtable_word1, hashtable_word2 = {}, {}\n",
    "    for character in word1:\n",
    "        hashtable_word1[character] = hashtable_word1.get(character, 0) + 1\n",
    "    for character in word2:\n",
    "        hashtable_word2[character] = hashtable_word2.get(character, 0) + 1\n",
    "    print (hashtable_word1)\n",
    "    print (hashtable_word2)\n",
    "    print (set(hashtable_word1.keys()))\n",
    "    print (set(hashtable_word2.keys()))\n",
    "    if set(hashtable_word1.keys()) != set(hashtable_word2.keys()):\n",
    "        return False\n",
    "    a = list(hashtable_word1.values())\n",
    "    b = list(hashtable_word2.values())\n",
    "    print (a)\n",
    "    print (b)\n",
    "    a.sort()\n",
    "    b.sort()\n",
    "    return a == b\n",
    "\n",
    "word1 = 'abac'\n",
    "word2 = 'bcac'\n",
    "out = closeStrings(word1, word2)\n",
    "print (out)"
   ]
  }
 ],
 "metadata": {
  "kernelspec": {
   "display_name": "Python 3",
   "language": "python",
   "name": "python3"
  },
  "language_info": {
   "codemirror_mode": {
    "name": "ipython",
    "version": 3
   },
   "file_extension": ".py",
   "mimetype": "text/x-python",
   "name": "python",
   "nbconvert_exporter": "python",
   "pygments_lexer": "ipython3",
   "version": "3.12.1"
  }
 },
 "nbformat": 4,
 "nbformat_minor": 2
}
