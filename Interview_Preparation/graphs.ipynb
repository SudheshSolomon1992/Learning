{
 "cells": [
  {
   "cell_type": "markdown",
   "metadata": {},
   "source": [
    "### Adjacency List Problems"
   ]
  },
  {
   "cell_type": "markdown",
   "metadata": {},
   "source": [
    "#### Generic Template\n",
    "\n",
    "from collections import defaultdict <br>\n",
    "Step1: Build the adjacency list <br>\n",
    "def build_adjacency_list(adj_mat): <br>\n",
    "    graph = defaultdict(list) <br>\n",
    "    <br>\n",
    "    Step 1.a If there are any conditions not to add node/neighbors add here <br>\n",
    "    (if condition) <br>\n",
    "    <br>\n",
    "    Step 1.b Create the adjacency list <br>\n",
    "    for node, neighbor in adj_mat: <br>\n",
    "        graph[node].append(neighbor) <br>\n",
    "        graph[neighbor].append(node) <br>\n",
    "    <br>\n",
    "    Step 1.c Return the graph <br>\n",
    "    return graph <br>\n",
    "    <br>\n",
    "Step 2: Perform DFS <br>\n",
    "def dfs(node): <br>\n",
    "    Step 2.1: Loop through all the neighbors of each node <br>\n",
    "    for neighbor in graph[node]: <br>\n",
    "        Step 2.2: If not visited, add it to the seen list <br>\n",
    "        if neighbor not in seen: <br>\n",
    "            seen.add(neighbor) <br>\n",
    "            dfs(neighbor) <br>\n",
    "    <br>\n",
    "Step 3: Initialize the objects <br>\n",
    "Object 1: Graph object <br>\n",
    "graph = build_adjacency_list(edges) # list of edges <br>\n",
    "Object 2: Seen / visited: If the source is mentioned or the problem mentions as 0, initialize set as set(source) or set(0) <br>\n",
    "seen = set() <br>\n",
    "Step 4: Call the Depth First Search Function. If the source or 0 is mentioned, pass in the source/0 to this function  <br>\n",
    "dfs() <br>\n",
    "Step 5: return based on the problem description <br>\n",
    "return <br>"
   ]
  },
  {
   "cell_type": "markdown",
   "metadata": {},
   "source": [
    "#### Number of Provinces (LEETCODE 547) - MEDIUM\n",
    "\n",
    "There are n cities. Some of them are connected, while some are not. If city a is connected directly with city b, and city b is connected directly with city c, then city a is connected indirectly with city c.\n",
    "\n",
    "A province is a group of directly or indirectly connected cities and no other cities outside of the group.\n",
    "\n",
    "You are given an n x n matrix isConnected where isConnected[i][j] = 1 if the ith city and the jth city are directly connected, and isConnected[i][j] = 0 otherwise.\n",
    "\n",
    "Return the total number of provinces."
   ]
  },
  {
   "cell_type": "code",
   "execution_count": 12,
   "metadata": {},
   "outputs": [
    {
     "name": "stdout",
     "output_type": "stream",
     "text": [
      "IsConnected: [[1, 1, 0], [1, 1, 0], [0, 0, 1]]\n",
      "graph: defaultdict(<class 'list'>, {}), n: 3\n",
      "node: 0, neighbor:1\n",
      "node: 0, neighbor:2\n",
      "node: 1, neighbor:2\n",
      "After adjacency list is built\n",
      "Graph: defaultdict(<class 'list'>, {0: [1], 1: [0]})\n",
      "city: 0, seen:set(), provinces: 0\n",
      "city: 1, seen:{0, 1}, provinces: 1\n",
      "city: 2, seen:{0, 1}, provinces: 1\n",
      "2\n"
     ]
    }
   ],
   "source": [
    "\n",
    "from collections import defaultdict\n",
    "def findCircleNum(isConnected):\n",
    "    print (f\"IsConnected: {isConnected}\")\n",
    "    def build_adj_list(adj_mat):\n",
    "        graph = defaultdict(list)\n",
    "        n = len(adj_mat)\n",
    "        print (f\"graph: {graph}, n: {n}\")\n",
    "        for node in range(n):\n",
    "            for neighbor in range(node + 1, n):\n",
    "                print (f\"node: {node}, neighbor:{neighbor}\")\n",
    "                if isConnected[node][neighbor] == 1:\n",
    "                    graph[node].append(neighbor)\n",
    "                    graph[neighbor].append(node)\n",
    "\n",
    "        return graph\n",
    "    \n",
    "    def dfs(node):\n",
    "        for neighbor in graph[node]:\n",
    "            if neighbor not in seen:\n",
    "                seen.add(neighbor)\n",
    "                dfs(neighbor)\n",
    "    \n",
    "    graph = build_adj_list(isConnected)\n",
    "    print (\"After adjacency list is built\")\n",
    "    print (f\"Graph: {graph}\")\n",
    "    seen = set()\n",
    "    provinces = 0\n",
    "\n",
    "    for city in range(len(isConnected)):\n",
    "        print (f\"city: {city}, seen:{seen}, provinces: {provinces}\")\n",
    "        if city not in seen:\n",
    "            provinces += 1\n",
    "            # seen.add(city)\n",
    "        dfs(city)\n",
    "    \n",
    "    return provinces\n",
    "\n",
    "isConnected = [[1,1,0],[1,1,0],[0,0,1]]\n",
    "out = findCircleNum(isConnected)\n",
    "print (out)\n"
   ]
  },
  {
   "cell_type": "markdown",
   "metadata": {},
   "source": [
    "#### Reorder routes to make all paths lead to the city zero (Leetcode 1466)\n",
    "\n",
    "There are n cities numbered from 0 to n-1 and n-1 roads such that there is only one way to travel between two different cities (this network form a tree). Last year, The ministry of transport decided to orient the roads in one direction because they are too narrow.\n",
    "\n",
    "Roads are represented by connections where connections[i] = [a, b] represents a road from city a to b.\n",
    "\n",
    "This year, there will be a big event in the capital (city 0), and many people want to travel to this city.\n",
    "\n",
    "Your task consists of reorienting some roads such that each city can visit the city 0. Return the minimum number of edges changed.\n",
    "\n",
    "It's guaranteed that each city can reach the city 0 after reorder."
   ]
  },
  {
   "cell_type": "code",
   "execution_count": 32,
   "metadata": {},
   "outputs": [
    {
     "name": "stdout",
     "output_type": "stream",
     "text": [
      "Roads: {(0, 1)}\n",
      "Roads: {(0, 1), (1, 3)}\n",
      "Roads: {(0, 1), (2, 3), (1, 3)}\n",
      "Roads: {(0, 1), (4, 0), (2, 3), (1, 3)}\n",
      "Roads: {(0, 1), (4, 0), (2, 3), (4, 5), (1, 3)}\n",
      "After Adjacency list\n",
      "Graph: defaultdict(<class 'list'>, {0: [1, 4], 1: [0, 3], 3: [1, 2], 2: [3], 4: [0, 5], 5: [4]})\n",
      "Node: 0, neighbor: 1, graph[0]: [1, 4], seen:{0}, ans:0\n",
      "Node: 1, neighbor: 0, graph[1]: [0, 3], seen:{0, 1}, ans:0\n",
      "Node: 1, neighbor: 3, graph[1]: [0, 3], seen:{0, 1}, ans:0\n",
      "Node: 3, neighbor: 1, graph[3]: [1, 2], seen:{0, 1, 3}, ans:0\n",
      "Node: 3, neighbor: 2, graph[3]: [1, 2], seen:{0, 1, 3}, ans:0\n",
      "Node: 2, neighbor: 3, graph[2]: [3], seen:{0, 1, 2, 3}, ans:0\n",
      "Node: 0, neighbor: 4, graph[0]: [1, 4], seen:{0, 1, 2, 3}, ans:2\n",
      "Node: 4, neighbor: 0, graph[4]: [0, 5], seen:{0, 1, 2, 3, 4}, ans:0\n",
      "Node: 4, neighbor: 5, graph[4]: [0, 5], seen:{0, 1, 2, 3, 4}, ans:0\n",
      "Node: 5, neighbor: 4, graph[5]: [4], seen:{0, 1, 2, 3, 4, 5}, ans:0\n",
      "3\n"
     ]
    }
   ],
   "source": [
    "from collections import defaultdict\n",
    "def minReorder(n, connections):\n",
    "    roads = set()\n",
    "    def build_adj_list(adj_mat):\n",
    "        graph = defaultdict(list)\n",
    "        for node, neighbor in adj_mat:\n",
    "            roads.add((node, neighbor))\n",
    "            print (f\"Roads: {roads}\")\n",
    "            graph[node].append(neighbor)\n",
    "            graph[neighbor].append(node)\n",
    "        return graph\n",
    "    \n",
    "    def dfs(node):\n",
    "        ans = 0\n",
    "        for neighbor in graph[node]:\n",
    "            print (f\"Node: {node}, neighbor: {neighbor}, graph[{node}]: {graph[node]}, seen:{seen}, ans:{ans}\")\n",
    "            if neighbor not in seen:\n",
    "                seen.add(neighbor)\n",
    "                if (node, neighbor) in roads:\n",
    "                    ans += 1\n",
    "                ans += dfs(neighbor)\n",
    "        return ans\n",
    "    \n",
    "    graph = build_adj_list(connections)\n",
    "    print (\"After Adjacency list\")\n",
    "    print (f\"Graph: {graph}\")\n",
    "    seen = {0}\n",
    "    return dfs(0)\n",
    "\n",
    "n = 6\n",
    "connections = [[0,1],[1,3],[2,3],[4,0],[4,5]]\n",
    "out = minReorder(n, connections)\n",
    "print (out)"
   ]
  },
  {
   "cell_type": "markdown",
   "metadata": {},
   "source": [
    "#### Find if path exists in a graph (LEETCODE 1971) - EASY\n",
    "There is a bi-directional graph with n vertices, where each vertex is labeled from 0 to n - 1 (inclusive). The edges in the graph are represented as a 2D integer array edges, where each edges[i] = [ui, vi] denotes a bi-directional edge between vertex ui and vertex vi. Every vertex pair is connected by at most one edge, and no vertex has an edge to itself.\n",
    "\n",
    "You want to determine if there is a valid path that exists from vertex source to vertex destination.\n",
    "\n",
    "Given edges and the integers n, source, and destination, return true if there is a valid path from source to destination, or false otherwise."
   ]
  },
  {
   "cell_type": "code",
   "execution_count": 45,
   "metadata": {},
   "outputs": [
    {
     "name": "stdout",
     "output_type": "stream",
     "text": [
      "defaultdict(<class 'list'>, {0: [1, 2], 1: [0], 2: [0], 3: [5, 4], 5: [3, 4], 4: [5, 3]})\n",
      "node: 3, neighbor: 5, graph[3]: [5, 4], seen: {3}\n",
      "5 not in seen. Adding it!!! seen: {3, 5}\n",
      "Calling DFS(5)\n",
      "True\n"
     ]
    }
   ],
   "source": [
    "from collections import defaultdict\n",
    "def validPath(n, edges, source, destination):\n",
    "    def build_adj_list(adj_mat):\n",
    "        graph = defaultdict(list)\n",
    "        for node, neighbor in adj_mat:\n",
    "            graph[node].append(neighbor)\n",
    "            graph[neighbor].append(node)\n",
    "        return graph\n",
    "    \n",
    "    def dfs(node):\n",
    "        if node == destination:\n",
    "            return True\n",
    "        for neighbor in graph[node]:\n",
    "            print (f\"node: {node}, neighbor: {neighbor}, graph[{node}]: {graph[node]}, seen: {seen}\")\n",
    "            if neighbor not in seen:\n",
    "                seen.add(neighbor)\n",
    "                print (f\"{neighbor} not in seen. Adding it!!! seen: {seen}\")\n",
    "                print (f\"Calling DFS({neighbor})\")\n",
    "                if dfs(neighbor):\n",
    "                    return True\n",
    "            else:\n",
    "                print (f\"{neighbor} already in seen. seen: {seen}\")\n",
    "        return False\n",
    "\n",
    "    graph = build_adj_list(edges)\n",
    "    print (graph)\n",
    "    seen = {source}\n",
    "    return dfs(source)\n",
    "\n",
    "n = 6\n",
    "edges = [[0,1],[0,2],[3,5],[5,4],[4,3]]\n",
    "source = 0\n",
    "destination = 5\n",
    "out = validPath(n, edges, source, destination)\n",
    "print (out)"
   ]
  },
  {
   "cell_type": "markdown",
   "metadata": {},
   "source": [
    "#### Number of connected components in an undirected graph (LEETCODE 323) - MEDIUM\n",
    "\n",
    "You have a graph of n nodes. You are given an integer n and an array edges where edges[i] = [ai, bi] indicates that there is an edge between ai and bi in the graph.\n",
    "\n",
    "Return the number of connected components in the graph."
   ]
  },
  {
   "cell_type": "code",
   "execution_count": 58,
   "metadata": {},
   "outputs": [
    {
     "name": "stdout",
     "output_type": "stream",
     "text": [
      "defaultdict(<class 'list'>, {0: [1], 1: [0, 2], 2: [1], 3: [4], 4: [3]})\n",
      "2\n"
     ]
    }
   ],
   "source": [
    "from collections import defaultdict\n",
    "def countComponents(n, edges):\n",
    "    def build_adj_list(adj_mat):\n",
    "        graph = defaultdict(list)\n",
    "        for node, neighbor in adj_mat:\n",
    "            graph[node].append(neighbor)\n",
    "            graph[neighbor].append(node)\n",
    "        return graph\n",
    "    \n",
    "    def dfs(node):\n",
    "        for neighbor in graph[node]:\n",
    "            if neighbor not in seen:\n",
    "                seen.add(neighbor)\n",
    "                dfs(neighbor)\n",
    "\n",
    "\n",
    "    graph = build_adj_list(edges)\n",
    "    print (graph)\n",
    "    seen = set()\n",
    "    connected_components = 0\n",
    "\n",
    "    for node in range(n):\n",
    "        if node not in seen:\n",
    "            connected_components += 1\n",
    "            seen.add(node)\n",
    "            dfs(node)\n",
    "            \n",
    "    return connected_components\n",
    "\n",
    "n = 5\n",
    "edges = [[0, 1], [1, 2], [3, 4]]\n",
    "out = countComponents(n, edges)\n",
    "print (out)"
   ]
  },
  {
   "cell_type": "markdown",
   "metadata": {},
   "source": [
    "#### Reachable nodes with restrictions (LEETCODE 2368) - MEDIUM\n",
    "\n",
    "There is an undirected tree with n nodes labeled from 0 to n - 1 and n - 1 edges.\n",
    "\n",
    "You are given a 2D integer array edges of length n - 1 where edges[i] = [ai, bi] indicates that there is an edge between nodes ai and bi in the tree. You are also given an integer array restricted which represents restricted nodes.\n",
    "\n",
    "Return the maximum number of nodes you can reach from node 0 without visiting a restricted node.\n",
    "\n",
    "Note that node 0 will not be a restricted node."
   ]
  },
  {
   "cell_type": "code",
   "execution_count": 65,
   "metadata": {},
   "outputs": [
    {
     "name": "stdout",
     "output_type": "stream",
     "text": [
      "defaultdict(<class 'list'>, {0: [1], 1: [0, 2, 3], 2: [1], 3: [1]})\n"
     ]
    },
    {
     "data": {
      "text/plain": [
       "4"
      ]
     },
     "execution_count": 65,
     "metadata": {},
     "output_type": "execute_result"
    }
   ],
   "source": [
    "from collections import defaultdict\n",
    "def reachableNodes(n, edges, restricted):\n",
    "    restricted = set(restricted)\n",
    "    def build_adj_list(adj_mat):\n",
    "        graph = defaultdict(list)\n",
    "        for node, neighbor in adj_mat:\n",
    "            if node not in restricted and neighbor not in restricted:\n",
    "                graph[node].append(neighbor)\n",
    "                graph[neighbor].append(node)\n",
    "        return graph\n",
    "    \n",
    "    def dfs(node):\n",
    "        for neighbor in graph[node]:\n",
    "            if neighbor not in seen and neighbor not in restricted:\n",
    "                seen.add(neighbor)\n",
    "                dfs(neighbor)\n",
    "    \n",
    "    graph = build_adj_list(edges)\n",
    "    seen = {0}\n",
    "    dfs(0)\n",
    "    return len(seen)\n",
    "\n",
    "n = 7\n",
    "edges = [[0,1],[1,2],[3,1],[4,0],[0,5],[5,6]]\n",
    "restricted = [4,5]\n",
    "reachableNodes(n, edges, restricted)\n"
   ]
  },
  {
   "cell_type": "markdown",
   "metadata": {},
   "source": [
    "### Grid Problems"
   ]
  },
  {
   "cell_type": "markdown",
   "metadata": {},
   "source": [
    "#### Number of Islands (LEETCODE 200) - MEDIUM\n",
    "\n",
    "Given an m x n 2D binary grid grid which represents a map of '1's (land) and '0's (water), return the number of islands.\n",
    "\n",
    "An island is surrounded by water and is formed by connecting adjacent lands horizontally or vertically. You may assume all four edges of the grid are all surrounded by water."
   ]
  },
  {
   "cell_type": "code",
   "execution_count": null,
   "metadata": {},
   "outputs": [],
   "source": [
    "def numIslands(grid):\n",
    "    def valid(row, col):\n",
    "            return 0 <= row < rows and 0 <= col < cols and grid[row][col] == '1'\n",
    "        \n",
    "    def dfs(row, col):\n",
    "        for dr, dc in dirs:\n",
    "            next_row, next_col = row + dr, col + dc\n",
    "            neighbor = (next_row, next_col)\n",
    "            if neighbor not in seen and valid(*neighbor):\n",
    "                seen.add(neighbor)\n",
    "                dfs(*neighbor)\n",
    "    \n",
    "    rows = len(grid)\n",
    "    cols = len(grid[0])\n",
    "    # Represents the 4 directions\n",
    "    # (-1,0) = Left\n",
    "    # (1,0) = Right\n",
    "    # (0,1) = Top\n",
    "    # (0,-1) = Bottom\n",
    "    dirs = [(-1,0),(1,0),(0,-1),(0,1)]\n",
    "    seen = set()\n",
    "    islands = 0\n",
    "    \n",
    "    # Loop through each cell of the 2D matrix\n",
    "    for i in range(rows):\n",
    "        for j in range(cols):\n",
    "            node = (i, j)\n",
    "            print (f\"Node: {node}, seen: {seen}, grid[i][j]= {grid[i][j]}\")\n",
    "            if node not in seen and grid[i][j] == '1':\n",
    "                islands += 1\n",
    "                # seen.add(node)\n",
    "                dfs(*node)\n",
    "                \n",
    "    return islands\n",
    "\n",
    "grid = [\n",
    "  [\"1\",\"1\",\"0\",\"0\",\"0\"],\n",
    "  [\"1\",\"1\",\"0\",\"0\",\"0\"],\n",
    "  [\"0\",\"0\",\"1\",\"0\",\"0\"],\n",
    "  [\"0\",\"0\",\"0\",\"1\",\"1\"]\n",
    "]\n",
    "out = numIslands(grid)\n",
    "print (out)"
   ]
  }
 ],
 "metadata": {
  "kernelspec": {
   "display_name": "Python 3",
   "language": "python",
   "name": "python3"
  },
  "language_info": {
   "codemirror_mode": {
    "name": "ipython",
    "version": 3
   },
   "file_extension": ".py",
   "mimetype": "text/x-python",
   "name": "python",
   "nbconvert_exporter": "python",
   "pygments_lexer": "ipython3",
   "version": "3.12.1"
  }
 },
 "nbformat": 4,
 "nbformat_minor": 2
}
