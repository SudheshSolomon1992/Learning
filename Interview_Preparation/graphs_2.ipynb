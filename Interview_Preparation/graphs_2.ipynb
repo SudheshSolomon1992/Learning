{
 "cells": [
  {
   "cell_type": "markdown",
   "metadata": {},
   "source": [
    "### GRAPHS\n",
    "\n",
    "https://www.giulianopertile.com/blog/the-definitive-guide-to-graph-problems/"
   ]
  },
  {
   "cell_type": "markdown",
   "metadata": {},
   "source": [
    "#### Breadth first Search\n",
    "\n",
    "1. Create a queue\n",
    "2. Add the root node to the queue\n",
    "3. While queue is not empty, pop the front element\n",
    "4. Add the neighbors of the popped element in the queue\n",
    "\n",
    "Time Complexity = O(V + E), since it involves traversing all the vertices (V) and the edges (E) <br>\n",
    "Space Complexity = O(V), since the queue will have at most V elements"
   ]
  },
  {
   "cell_type": "code",
   "execution_count": 4,
   "metadata": {},
   "outputs": [
    {
     "name": "stdout",
     "output_type": "stream",
     "text": [
      "1 2 3 4 5 6 "
     ]
    }
   ],
   "source": [
    "from collections import deque\n",
    "def bfs(graph, root):\n",
    "    queue = deque([root])\n",
    "    while queue:\n",
    "        node = queue.popleft()\n",
    "        print (node, end=' ')\n",
    "        for neighbor in graph[node]:\n",
    "            queue.append(neighbor)\n",
    "\n",
    "graph = {\n",
    "    1: [2, 3],\n",
    "    2: [4],\n",
    "    3: [5, 6],\n",
    "    4: [],\n",
    "    5: [],\n",
    "    6: [],\n",
    "}\n",
    "bfs(graph, 1)\n"
   ]
  },
  {
   "cell_type": "markdown",
   "metadata": {},
   "source": [
    "#### Depth first search - Iterative\n",
    "\n",
    "1. Declare a stack and insert the starting node\n",
    "2. While stack is not empty, remove the last node of the stack\n",
    "3. Add the neighbors of the removed node to the stack\n",
    "\n",
    "Time Complexity: O(V+E), since it involves traversing through all the vertices and edges <br>\n",
    "Space Complexity: O(V), since the stack can contain at most V elements\n",
    "\n",
    "#### Depth first search - Recursive\n",
    "\n",
    "1. Create a recursion function that takes the graph and the starting node\n",
    "2. Create the base cases\n",
    "3. Traverse the neighboring nodes and call the recursive function with the index of the neighboring node\n",
    "\n",
    "Time Complexity: O(V+E), since it involves traversing through all the vertices and edges <br>\n",
    "Space Complexity: O(V), since the stack can contain at most V elements"
   ]
  },
  {
   "cell_type": "code",
   "execution_count": 8,
   "metadata": {},
   "outputs": [
    {
     "name": "stdout",
     "output_type": "stream",
     "text": [
      "DFS Iterative\n",
      "1 3 6 5 2 4 \n",
      "\n",
      "DFS Recursive\n",
      "1 2 4 3 5 6 "
     ]
    }
   ],
   "source": [
    "def dfs_iterative(graph, root):\n",
    "    stack = [root]\n",
    "    while stack:\n",
    "        node = stack.pop()\n",
    "        print (node, end=' ')\n",
    "        for neighbor in graph[node]:\n",
    "            stack.append(neighbor)\n",
    "\n",
    "def dfs_recursive(graph, root):\n",
    "    print (root, end=' ')\n",
    "    for neighbor in graph[root]:\n",
    "        dfs_recursive(graph, neighbor)\n",
    "\n",
    "graph = {\n",
    "    1: [2, 3],\n",
    "    2: [4],\n",
    "    3: [5, 6],\n",
    "    4: [],\n",
    "    5: [],\n",
    "    6: [],\n",
    "}\n",
    "print (\"DFS Iterative\")\n",
    "dfs_iterative(graph, 1)\n",
    "print (\"\\n\")\n",
    "print (\"DFS Recursive\")\n",
    "dfs_recursive(graph, 1)\n"
   ]
  },
  {
   "cell_type": "markdown",
   "metadata": {},
   "source": [
    "#### Build adjacency list from edges"
   ]
  },
  {
   "cell_type": "code",
   "execution_count": 9,
   "metadata": {},
   "outputs": [
    {
     "name": "stdout",
     "output_type": "stream",
     "text": [
      "{'1': ['2', '4'], '2': ['1', '3'], '3': ['2', '5'], '5': ['3', '4'], '4': ['5', '1']}\n"
     ]
    }
   ],
   "source": [
    "def create_graph(edges):\n",
    "    graph={}\n",
    "    for edge in edges:\n",
    "        node_a, node_b = edge\n",
    "        if node_a not in graph:\n",
    "            graph[node_a] = []\n",
    "        if node_b not in graph:\n",
    "            graph[node_b] = []\n",
    "\n",
    "        graph[node_a].append(node_b)\n",
    "        graph[node_b].append(node_a)\n",
    "    return graph\n",
    "\n",
    "edges = [\n",
    "    [\"1\", \"2\"],\n",
    "    [\"2\", \"3\"],\n",
    "    [\"5\", \"3\"],\n",
    "    [\"5\", \"4\"],\n",
    "    [\"1\", \"4\"]\n",
    "]\n",
    "print (create_graph(edges))"
   ]
  },
  {
   "cell_type": "markdown",
   "metadata": {},
   "source": [
    "### Practice Problems"
   ]
  },
  {
   "cell_type": "markdown",
   "metadata": {},
   "source": [
    "#### Has Path"
   ]
  },
  {
   "cell_type": "code",
   "execution_count": 19,
   "metadata": {},
   "outputs": [
    {
     "name": "stdout",
     "output_type": "stream",
     "text": [
      "BFS\n",
      "True\n",
      "\n",
      "\n",
      "DFS Iterative\n",
      "True\n",
      "\n",
      "\n",
      "DFS Recursive\n",
      "True\n"
     ]
    }
   ],
   "source": [
    "from collections import deque\n",
    "def has_path_bfs(graph, source, destination):\n",
    "    if source == destination:\n",
    "         return True\n",
    "    queue = deque([source])\n",
    "    while queue:\n",
    "        node = queue.popleft()\n",
    "        if node == destination:\n",
    "                return True\n",
    "        for neighbor in graph[node]:\n",
    "            queue.append(neighbor)\n",
    "    return False\n",
    "\n",
    "def has_path_dfs_iterative(graph, source, destination):\n",
    "    if source == destination:\n",
    "        return True\n",
    "    stack = [source]\n",
    "    while stack:\n",
    "        node = stack.pop()\n",
    "        if node == destination:\n",
    "            return True\n",
    "        for neighbor in graph[node]:\n",
    "            stack.append(neighbor)\n",
    "    return False\n",
    "\n",
    "def has_path_dfs_recursive(graph, source, destination):\n",
    "    if source == destination:\n",
    "        return True\n",
    "    for neighbor in graph[source]:\n",
    "        if has_path_dfs_recursive(graph, neighbor, destination):\n",
    "            return True\n",
    "    return False\n",
    "\n",
    "graph = {\n",
    "    1: [2, 3],\n",
    "    2: [4],\n",
    "    3: [5, 6],\n",
    "    4: [],\n",
    "    5: [],\n",
    "    6: [],\n",
    "    7: [8, 9, 10],\n",
    "    8: [],\n",
    "    9: [6],\n",
    "    10: [],\n",
    "}\n",
    "print (\"BFS\")\n",
    "print (has_path_bfs(graph, source=7, destination=6))\n",
    "print (\"\\n\")\n",
    "print (\"DFS Iterative\")\n",
    "print (has_path_dfs_iterative(graph, source=7, destination=6))\n",
    "print (\"\\n\")\n",
    "print (\"DFS Recursive\")\n",
    "print (has_path_dfs_recursive(graph, source=7, destination=6))"
   ]
  },
  {
   "cell_type": "markdown",
   "metadata": {},
   "source": [
    "#### Visited Pattern - Used in undirected graphs to prevent infinite loops"
   ]
  },
  {
   "cell_type": "code",
   "execution_count": 24,
   "metadata": {},
   "outputs": [
    {
     "name": "stdout",
     "output_type": "stream",
     "text": [
      "BFS\n",
      "True\n",
      "\n",
      "\n",
      "DFS Iterative\n",
      "True\n",
      "\n",
      "\n",
      "DFS Recursive\n",
      "True\n",
      "\n",
      "\n"
     ]
    }
   ],
   "source": [
    "from collections import deque\n",
    "def has_path_bfs(graph, source, destination):\n",
    "    if source == destination:\n",
    "        return True\n",
    "    queue = deque([source])\n",
    "    visited = set()\n",
    "    while queue:\n",
    "        node = queue.popleft()\n",
    "        visited.add(node)\n",
    "        if node == destination:\n",
    "            return True\n",
    "        for neighbor in graph[node]:\n",
    "            if neighbor not in visited:\n",
    "                queue.append(neighbor)\n",
    "    return False\n",
    "\n",
    "def has_path_dfs_iterative(graph, source, destination):\n",
    "    if source == destination:\n",
    "        return True\n",
    "    stack = [source]\n",
    "    visited = set()\n",
    "    while stack:\n",
    "        node = stack.pop()\n",
    "        visited.add(node)\n",
    "        if node == destination:\n",
    "            return True\n",
    "        for neighbor in graph[node]:\n",
    "            if neighbor not in visited:\n",
    "                stack.append(neighbor)\n",
    "    return False\n",
    "\n",
    "def has_path_dfs_recursive(graph, source, destination, visited=set()):\n",
    "    if source == destination:\n",
    "        return True\n",
    "    visited.add(source)\n",
    "    for neighbor in graph[source]:\n",
    "        if neighbor not in visited:\n",
    "            if has_path_dfs_recursive(graph,neighbor,destination, visited):\n",
    "                return True\n",
    "    return False\n",
    "\n",
    "graph = {\n",
    "    1: [2, 3],\n",
    "    2: [1, 4],\n",
    "    3: [1, 5, 6],\n",
    "    4: [2],\n",
    "    5: [3],\n",
    "    6: [3],\n",
    "    7: [8, 9, 10],\n",
    "    8: [7],\n",
    "    9: [7],\n",
    "    10: [7],\n",
    "}\n",
    "\n",
    "print (\"BFS\")\n",
    "print (has_path_bfs(graph, source=2, destination=6))\n",
    "print (\"\\n\")\n",
    "print (\"DFS Iterative\")\n",
    "print (has_path_dfs_iterative(graph, source=2, destination=6))\n",
    "print (\"\\n\")\n",
    "print (\"DFS Recursive\")\n",
    "print (has_path_dfs_recursive(graph, source=2, destination=6))\n",
    "print (\"\\n\")"
   ]
  },
  {
   "cell_type": "markdown",
   "metadata": {},
   "source": [
    "#### Count components"
   ]
  },
  {
   "cell_type": "code",
   "execution_count": 33,
   "metadata": {},
   "outputs": [
    {
     "name": "stdout",
     "output_type": "stream",
     "text": [
      "BFS: 3\n",
      "DFS Iterative: 3\n",
      "DFS Recursive: 3\n"
     ]
    }
   ],
   "source": [
    "from collections import deque\n",
    "def connected_components_counts_bfs(graph):\n",
    "    visited = set()\n",
    "    components = 0\n",
    "    for node, neighbors in graph.items():\n",
    "        queue = deque([node])\n",
    "        if node in visited:\n",
    "            continue\n",
    "        while queue:\n",
    "            current_node = queue.popleft()\n",
    "            visited.add(current_node)\n",
    "            for neighbor in graph[current_node]:\n",
    "                if neighbor not in visited:\n",
    "                    queue.append(neighbor)\n",
    "        # Increment the component when the queue is empty - we are moving to the next disconnected graph\n",
    "        components += 1\n",
    "    return components\n",
    "\n",
    "def connected_components_counts_dfs_iterative(graph):\n",
    "    visited = set()\n",
    "    components = 0\n",
    "    for node, neighbors in graph.items():\n",
    "        stack = [node]\n",
    "        if node in visited:\n",
    "            continue\n",
    "        while stack:\n",
    "            current_node = stack.pop(0)\n",
    "            visited.add(current_node)\n",
    "            for neighbor in graph[current_node]:\n",
    "                if neighbor not in visited:\n",
    "                    stack.append(neighbor)\n",
    "        components += 1\n",
    "    return components\n",
    "\n",
    "def connected_components_counts_dfs_recursive(graph):\n",
    "    visited = set()\n",
    "    components = 0\n",
    "    \n",
    "    def traverse_graph(current_node, visited, graph):\n",
    "        if current_node in visited:\n",
    "            return False\n",
    "        visited.add(current_node)\n",
    "        for neighbor in graph[current_node]:\n",
    "            traverse_graph(neighbor, visited, graph)\n",
    "        return True\n",
    "    \n",
    "    for node, neighbors in graph.items():\n",
    "        if traverse_graph(node, visited, graph):\n",
    "            components += 1\n",
    "    return components\n",
    "    \n",
    "\n",
    "graph = {\n",
    "    1: [2, 3],\n",
    "    2: [1, 4],\n",
    "    3: [1, 5, 6],\n",
    "    4: [2],\n",
    "    5: [3],\n",
    "    6: [3],\n",
    "    7: [8, 9, 10],\n",
    "    8: [7],\n",
    "    9: [7],\n",
    "    10: [7],\n",
    "    11: [12],\n",
    "    12: [11]\n",
    "}\n",
    "\n",
    "print(f\"BFS: {str(connected_components_counts_bfs(graph))}\")\n",
    "print(f\"DFS Iterative: {str(connected_components_counts_dfs_iterative(graph))}\")\n",
    "print(f\"DFS Recursive: {str(connected_components_counts_dfs_recursive(graph))}\")"
   ]
  },
  {
   "cell_type": "markdown",
   "metadata": {},
   "source": [
    "#### Largest Component"
   ]
  },
  {
   "cell_type": "code",
   "execution_count": 45,
   "metadata": {},
   "outputs": [
    {
     "name": "stdout",
     "output_type": "stream",
     "text": [
      "BFS: 6\n",
      "DFS Iterative: 6\n",
      "DFS Recursive: 6\n"
     ]
    }
   ],
   "source": [
    "from collections import deque\n",
    "def get_largests_component_bfs(graph):\n",
    "    visited = set()\n",
    "    max_size = float(\"-inf\")\n",
    "    for node, neighbors in graph.items():\n",
    "        queue = deque([node])\n",
    "        current_size = 0\n",
    "        while queue:\n",
    "            current_node = queue.popleft()\n",
    "            if current_node in visited:\n",
    "                continue\n",
    "            current_size += 1\n",
    "            visited.add(current_node)\n",
    "            for neighbor in graph[current_node]:\n",
    "                queue.append(neighbor)\n",
    "\n",
    "        max_size = max(max_size, current_size)\n",
    "    return max_size\n",
    "\n",
    "def get_largests_component_dfs_iterative(graph):\n",
    "    visited = set()\n",
    "    max_size = float(\"-inf\")\n",
    "    for node in graph:\n",
    "        stack = [node]\n",
    "        current_size = 0\n",
    "        while stack:\n",
    "            current_node = stack.pop(0)\n",
    "            if current_node in visited:\n",
    "                continue\n",
    "            current_size += 1\n",
    "            visited.add(current_node)\n",
    "            for neighbor in graph[current_node]:\n",
    "                stack.append(neighbor)\n",
    "        max_size = max(max_size, current_size)\n",
    "    \n",
    "    return max_size\n",
    "\n",
    "def get_largests_component_dfs_recursive(graph):\n",
    "    visited = set()\n",
    "    max_size = float(\"-inf\")\n",
    "\n",
    "    def traverse_graph(current_node, visited, graph, size):\n",
    "        if current_node in visited:\n",
    "            return size\n",
    "        visited.add(current_node)\n",
    "        size += 1\n",
    "        for neighbor in graph[current_node]:\n",
    "            size = max(size, traverse_graph(neighbor, visited, graph, size))\n",
    "        return size\n",
    "\n",
    "\n",
    "    for node, neighbors in graph.items():\n",
    "        current_size = 0\n",
    "        max_size = max(max_size, traverse_graph(node, visited, graph, current_size))\n",
    "    return max_size\n",
    "\n",
    "graph = {\n",
    "    1: [2, 3],\n",
    "    2: [1, 4],\n",
    "    3: [1, 5, 6],\n",
    "    4: [2],\n",
    "    5: [3],\n",
    "    6: [3],\n",
    "    7: [8, 9, 10],\n",
    "    8: [7],\n",
    "    9: [7],\n",
    "    10: [7],\n",
    "    11: [12],\n",
    "    12: [11]\n",
    "}\n",
    "print(f\"BFS: {get_largests_component_bfs(graph)}\")\n",
    "print(f\"DFS Iterative: {get_largests_component_dfs_iterative(graph)}\")\n",
    "print(f\"DFS Recursive: {get_largests_component_dfs_recursive(graph)}\")"
   ]
  },
  {
   "cell_type": "markdown",
   "metadata": {},
   "source": [
    "#### Shortest Path\n",
    "\n",
    "The difficulty of these exercises is that now we need to keep track, not only the nodes we visited, but also the distance from the previous node to the current one."
   ]
  },
  {
   "cell_type": "code",
   "execution_count": 47,
   "metadata": {},
   "outputs": [
    {
     "name": "stdout",
     "output_type": "stream",
     "text": [
      "2\n"
     ]
    }
   ],
   "source": [
    "from collections import deque\n",
    "def shortest_path(graph, source, destination):\n",
    "    visited = set()\n",
    "    queue = deque([(source, 0)])\n",
    "    \n",
    "    while queue:\n",
    "        node, distance = queue.popleft()\n",
    "        if node == destination:\n",
    "            return distance\n",
    "        if node in visited:\n",
    "            continue\n",
    "        visited.add(node)\n",
    "        for neighbor in graph[node]:\n",
    "            queue.append((neighbor, distance + 1))\n",
    "    return -1\n",
    "\n",
    "graph = {\n",
    "    1: [2, 3],\n",
    "    2: [1, 4],\n",
    "    3: [1, 5, 6],\n",
    "    4: [2, 5],\n",
    "    5: [3, 4, 6],\n",
    "    6: [3, 5],\n",
    "}\n",
    "\n",
    "print(shortest_path(graph, 1, 6))"
   ]
  }
 ],
 "metadata": {
  "kernelspec": {
   "display_name": "Python 3",
   "language": "python",
   "name": "python3"
  },
  "language_info": {
   "codemirror_mode": {
    "name": "ipython",
    "version": 3
   },
   "file_extension": ".py",
   "mimetype": "text/x-python",
   "name": "python",
   "nbconvert_exporter": "python",
   "pygments_lexer": "ipython3",
   "version": "3.12.1"
  }
 },
 "nbformat": 4,
 "nbformat_minor": 2
}
