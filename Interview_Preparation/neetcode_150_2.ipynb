{
 "cells": [
  {
   "cell_type": "markdown",
   "metadata": {},
   "source": [
    "#### 1. TWO SUM"
   ]
  },
  {
   "cell_type": "code",
   "execution_count": 1,
   "metadata": {},
   "outputs": [
    {
     "name": "stdout",
     "output_type": "stream",
     "text": [
      "[1, 0]\n"
     ]
    }
   ],
   "source": [
    "def twoSum(nums, target):\n",
    "    num_map = {}\n",
    "    for index, num in enumerate(nums):\n",
    "        diff = target - num\n",
    "        if diff in num_map:\n",
    "            return [index, num_map[diff]]\n",
    "        num_map[num] = index\n",
    "    return None\n",
    "\n",
    "nums = [2,7,11,15]\n",
    "target = 9\n",
    "print (twoSum(nums, target))"
   ]
  },
  {
   "cell_type": "markdown",
   "metadata": {},
   "source": [
    "#### 2. Add Two Numbers"
   ]
  },
  {
   "cell_type": "code",
   "execution_count": null,
   "metadata": {},
   "outputs": [],
   "source": [
    "class ListNode(object):\n",
    "    def __init__(self, val=0, next=None):\n",
    "        self.val = val\n",
    "        self.next = None\n",
    "\n",
    "def addTwoNumbers(l1, l2):\n",
    "    dummy = ListNode()\n",
    "    curr = dummy\n",
    "\n",
    "    carry = 0\n",
    "    while l1 or l2 or carry:\n",
    "        v1 = l1.val if l1 else 0\n",
    "        v2 = l2.val if l2 else 0\n",
    "\n",
    "        # new digit\n",
    "        val = v1 + v2 + carry\n",
    "        carry = val // 10\n",
    "        val = val % 10\n",
    "        curr.next = ListNode(val)\n",
    "\n",
    "        # update pointers\n",
    "        curr = curr.next\n",
    "        l1 = l1.next if l1 else None\n",
    "        l2 = l2.next if l2 else None\n",
    "    \n",
    "    return dummy.next"
   ]
  },
  {
   "cell_type": "markdown",
   "metadata": {},
   "source": [
    "#### Count Good Nodes in a Binary Tree\n",
    "\n",
    "A node X in the tree is named good if in the path from root to X there are no nodes with a value greater than X."
   ]
  },
  {
   "cell_type": "code",
   "execution_count": null,
   "metadata": {},
   "outputs": [],
   "source": [
    "class TreeNode:\n",
    "    def __init__(self, val=0, left=None, right=None):\n",
    "        self.val=0\n",
    "        self.left=None\n",
    "        self.right=None\n",
    "\n",
    "class Solution:\n",
    "    def countGoodNodes(self, root):\n",
    "        # largest/smallest in a path should not have global max/min and using stack approach will be helpful\n",
    "        stack = [(root, float(\"-inf\"))]\n",
    "        good_nodes = 0\n",
    "        while stack:\n",
    "            node, largest = stack.pop()\n",
    "            if node.val >= largest:\n",
    "                good_nodes += 1\n",
    "            largest = max(largest, node.val)\n",
    "            if node.left: stack.append((node.left, largest))\n",
    "            if node.right: stack.append((node.right, largest))\n",
    "        return good_nodes\n"
   ]
  },
  {
   "cell_type": "markdown",
   "metadata": {},
   "source": [
    "#### Remove nth node from the end of the list\n",
    "\n",
    "Approach: Two Pointer"
   ]
  },
  {
   "cell_type": "code",
   "execution_count": null,
   "metadata": {},
   "outputs": [],
   "source": [
    "class ListNode:\n",
    "    def __init__(self, val=0, next=None):\n",
    "        self.val=val\n",
    "        self.next=next\n",
    "\n",
    "class Solution:\n",
    "    def removeNthFromEnd(self, head, n):\n",
    "        fast, slow = head, head\n",
    "        for _ in range(n):\n",
    "            fast = fast.next\n",
    "\n",
    "        if not fast:\n",
    "            return head.next\n",
    "        \n",
    "        while fast.next:\n",
    "            fast = fast.next\n",
    "            slow = slow.next\n",
    "        \n",
    "        slow.next = slow.next.next\n",
    "        return head"
   ]
  },
  {
   "cell_type": "markdown",
   "metadata": {},
   "source": [
    "#### Valid Parentheses\n",
    "\n",
    "Approach: Stack"
   ]
  },
  {
   "cell_type": "code",
   "execution_count": 3,
   "metadata": {},
   "outputs": [
    {
     "name": "stdout",
     "output_type": "stream",
     "text": [
      "True\n"
     ]
    }
   ],
   "source": [
    "def isValid(s):\n",
    "    stack = []\n",
    "    bracket_map = {'(':')', '[':']', '{':'}'}\n",
    "\n",
    "    for bracket in s:\n",
    "        if bracket in bracket_map.keys():\n",
    "            stack.append(bracket)\n",
    "        elif len(stack) == 0 or bracket != bracket_map[stack.pop()]:\n",
    "            return False\n",
    "    return len(stack) == 0\n",
    "        \n",
    "s = \"()\"\n",
    "# s = \"()[]{}\"\n",
    "# s = \"(]\"\n",
    "print(isValid(s))\n"
   ]
  },
  {
   "cell_type": "markdown",
   "metadata": {},
   "source": [
    "#### Merge Two Sorted Lists\n",
    "\n",
    "Approach: Linked List"
   ]
  },
  {
   "cell_type": "code",
   "execution_count": null,
   "metadata": {},
   "outputs": [],
   "source": [
    "class ListNode:\n",
    "    def __init__(self, val=0, next=None):\n",
    "        self.val=val\n",
    "        self.next=next\n",
    "\n",
    "class Solution:\n",
    "    def mergeTwoLists(self, list1, list2):\n",
    "        if not list1 or not list2:\n",
    "            return list1 or list2\n",
    "        \n",
    "        if list1.val < list2.val:\n",
    "            list1.next = self.mergeTwoLists(list1.next, list2)\n",
    "            return list1\n",
    "        \n",
    "        if list2.val < list1.val:\n",
    "            list2.next = self.mergeTwoLists(list2.next, list1)\n",
    "            return list2"
   ]
  },
  {
   "cell_type": "markdown",
   "metadata": {},
   "source": [
    "#### Diameter of a binary tree\n",
    "\n",
    "The diameter of a binary tree is the length of the longest path between any two nodes in a tree. This path may or may not pass through the root."
   ]
  },
  {
   "cell_type": "code",
   "execution_count": null,
   "metadata": {},
   "outputs": [],
   "source": [
    "class TreeNode:\n",
    "    def __init__(self, val=0, left=None, right=None):\n",
    "        self.val = val\n",
    "        self.left = left\n",
    "        self.right = right\n",
    "\n",
    "class Solution:\n",
    "    def diameterOfBinaryTree(self, root):\n",
    "        largest_diameter = [0]\n",
    "        def height(root):\n",
    "            if not root:\n",
    "                return None\n",
    "            left_height = height(root.left)\n",
    "            right_height = height(root.right)\n",
    "            largest_diameter[0] = max(largest_diameter[0], left_height + right_height)\n",
    "            return 1 + max(left_height, right_height)\n",
    "        height(root)\n",
    "        return largest_diameter[0]\n"
   ]
  },
  {
   "cell_type": "markdown",
   "metadata": {},
   "source": [
    "#### Search in a Rotated Sorted Array\n",
    "\n",
    "Approach: Binary Search"
   ]
  },
  {
   "cell_type": "code",
   "execution_count": null,
   "metadata": {},
   "outputs": [],
   "source": [
    "def search(nums, target):\n",
    "    left, right = 0, len(nums) - 1\n",
    "\n",
    "    if len(nums) == 0:\n",
    "        return -1\n",
    "    \n",
    "    while left <= right:\n",
    "        mid = left + (right-left)//2\n",
    "\n",
    "        if nums[mid] == target: \n",
    "            return mid\n",
    "\n",
    "        # inflection point to the right. Left is strictly increasing\n",
    "        if nums[mid] >= nums[left]:\n",
    "            if nums[left] <= target < nums[mid]:\n",
    "                right = mid - 1\n",
    "            else:\n",
    "                left = mid + 1\n",
    "        \n",
    "        # inflection point to the left of me. Right is strictly increasing\n",
    "        else:\n",
    "            if nums[mid] < target <= nums[right]:\n",
    "                left = mid + 1\n",
    "            else:\n",
    "                right = mid - 1\n",
    "\n",
    "    return -1"
   ]
  }
 ],
 "metadata": {
  "kernelspec": {
   "display_name": "Python 3",
   "language": "python",
   "name": "python3"
  },
  "language_info": {
   "codemirror_mode": {
    "name": "ipython",
    "version": 3
   },
   "file_extension": ".py",
   "mimetype": "text/x-python",
   "name": "python",
   "nbconvert_exporter": "python",
   "pygments_lexer": "ipython3",
   "version": "3.12.1"
  }
 },
 "nbformat": 4,
 "nbformat_minor": 2
}
