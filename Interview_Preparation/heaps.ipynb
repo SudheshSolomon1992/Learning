{
 "cells": [
  {
   "cell_type": "markdown",
   "metadata": {},
   "source": [
    "#### Implementation of Heap"
   ]
  },
  {
   "cell_type": "code",
   "execution_count": 3,
   "metadata": {},
   "outputs": [
    {
     "name": "stdout",
     "output_type": "stream",
     "text": [
      "Adding an element.The heap is: [3]\n",
      "Adding an element.The heap is: [1, 3]\n",
      "Adding an element.The heap is: [1, 3, 2]\n",
      "Topmost element of the heap: 1\n",
      "Calling pop. The heap is: [2, 3]\n",
      "Calling pop. The heap is: [3]\n",
      "Calling pop. The heap is: []\n",
      "Adding an element.The heap is: [4]\n",
      "Adding an element.The heap is: [4, 5]\n"
     ]
    }
   ],
   "source": [
    "import sys\n",
    "class MinHeap:\n",
    "    def __init__(self, heapSize):\n",
    "        self.heapSize = heapSize\n",
    "        # the number of elements is needed when instantiating the array\n",
    "        # minHeap is the array initialize to 0\n",
    "        self.minHeap = [0] * (self.heapSize + 1)\n",
    "        # realSize records the number of elementis in the heap\n",
    "        self.realSize = 0\n",
    "\n",
    "    # Function to add an element\n",
    "    def add(self, element):\n",
    "        self.realSize += 1\n",
    "        # If the number of elements exceeds the heapSize\n",
    "        if self.realSize > self.heapSize:\n",
    "            print(\"Added too many elements\")\n",
    "            self.realSize -= 1\n",
    "            return\n",
    "        # Add the element into the array\n",
    "        self.minHeap[self.realSize] = element\n",
    "        # Index of the newly added element\n",
    "        index = self.realSize\n",
    "        parent = index//2\n",
    "        # If the newly added element is smaller than the parent node both their values will be exchanged\n",
    "        while (self.minHeap[index] < self.minHeap[parent] and index > 1):\n",
    "            self.minHeap[parent], self.minHeap[index] = self.minHeap[index], self.minHeap[parent]\n",
    "            index = parent\n",
    "            parent = index//2\n",
    "\n",
    "    # Get the top most element of the heap\n",
    "    def peek(self):\n",
    "        return self.minHeap[1]\n",
    "\n",
    "    # Delete the top element of the heap\n",
    "    def pop(self):\n",
    "        # If the number of elements in the current heap is 0\n",
    "        if self.heapSize < 1:\n",
    "            print (\"No elements in the heap\")\n",
    "            return sys.maxsize\n",
    "        else:\n",
    "            # When there are elements in the heap\n",
    "            removeElement = self.minHeap[1]\n",
    "            # Put the last element in the heap to the top of the heap\n",
    "            self.minHeap[1] = self.minHeap[self.realSize]\n",
    "            self.realSize -= 1\n",
    "            index = 1\n",
    "            # When deleted element is not a leaf node\n",
    "            while index <= self.realSize // 2:\n",
    "                # left child of the deleted element\n",
    "                left = index * 2\n",
    "                # right child of the deleted element\n",
    "                right = (index * 2) + 1\n",
    "                # If the deleted element is larger than the left or right child\n",
    "                # Its value needs to be exchanged with the smaller value\n",
    "                if (self.minHeap[index] > self.minHeap[left] or self.minHeap[index] > self.minHeap[right]):\n",
    "                    if self.minHeap[left] < self.minHeap[right]:\n",
    "                        self.minHeap[left], self.minHeap[index] = self.minHeap[index], self.minHeap[left]\n",
    "                        index = left\n",
    "                    else:\n",
    "                        self.minHeap[right], self.minHeap[index] = self.minHeap[index], self.minHeap[right]\n",
    "                        index = right\n",
    "                else:\n",
    "                    break\n",
    "            return removeElement\n",
    "        \n",
    "    # Return the number of elements in the heap\n",
    "    def size(self):\n",
    "        return self.realSize\n",
    "    \n",
    "    def __str__(self):\n",
    "        return str(self.minHeap[1 : self.realSize + 1])\n",
    "    \n",
    "if __name__ == \"__main__\":\n",
    "    # Test cases\n",
    "    minHeap = MinHeap(5)\n",
    "    minHeap.add(3)\n",
    "    print (f\"Adding an element.The heap is: {minHeap}\")\n",
    "    minHeap.add(1)\n",
    "    print (f\"Adding an element.The heap is: {minHeap}\")\n",
    "    minHeap.add(2)\n",
    "    print (f\"Adding an element.The heap is: {minHeap}\")\n",
    "    print (f\"Topmost element of the heap: {minHeap.peek()}\")\n",
    "    minHeap.pop()\n",
    "    print (f\"Calling pop. The heap is: {minHeap}\")\n",
    "    minHeap.pop()\n",
    "    print (f\"Calling pop. The heap is: {minHeap}\")\n",
    "    minHeap.pop()\n",
    "    print (f\"Calling pop. The heap is: {minHeap}\")\n",
    "    minHeap.add(4)\n",
    "    print (f\"Adding an element.The heap is: {minHeap}\")\n",
    "    minHeap.add(5)\n",
    "    print (f\"Adding an element.The heap is: {minHeap}\")\n"
   ]
  },
  {
   "cell_type": "code",
   "execution_count": 6,
   "metadata": {},
   "outputs": [
    {
     "name": "stdout",
     "output_type": "stream",
     "text": [
      "Adding an element.The heap is: [1]\n",
      "Adding an element.The heap is: [2, 1]\n",
      "Adding an element.The heap is: [3, 1, 2]\n",
      "Topmost element of the heap: 3\n",
      "3\n",
      "Calling pop. The heap is: [2, 1]\n",
      "2\n",
      "Calling pop. The heap is: [1]\n",
      "1\n",
      "Calling pop. The heap is: []\n",
      "Adding an element.The heap is: [4]\n",
      "Adding an element.The heap is: [5, 4]\n"
     ]
    }
   ],
   "source": [
    "class MaxHeap:\n",
    "    def __init__(self, heapSize):\n",
    "        self.heapSize = heapSize\n",
    "        self.maxHeap = [0] * (self.heapSize + 1)\n",
    "        self.realSize = 0\n",
    "    \n",
    "    def add(self, element):\n",
    "        self.realSize += 1\n",
    "        if self.realSize > self.heapSize:\n",
    "            print (\"Adding too many elements to the heap\")\n",
    "            self.realSize -= 1\n",
    "            return \n",
    "        # Add the element to the array\n",
    "        self.maxHeap[self.realSize] = element\n",
    "        # Index of the newly added element\n",
    "        index = self.realSize\n",
    "        parent = index//2\n",
    "        # If newly added element is larger than the parent\n",
    "        while self.maxHeap[index] > self.maxHeap[parent] and index > 1:\n",
    "            self.maxHeap[parent], self.maxHeap[index] = self.maxHeap[index], self.maxHeap[parent]\n",
    "            index = parent\n",
    "            parent = index//2\n",
    "    \n",
    "    # Get top element\n",
    "    def peek(self):\n",
    "        return self.maxHeap[1]\n",
    "    \n",
    "    # Delete the top most element of the heap\n",
    "    def pop(self):\n",
    "        if self.realSize < 1:\n",
    "            print (\"Don't have any element\")\n",
    "            return -sys.maxsize\n",
    "        else:\n",
    "            removeElement = self.maxHeap[1]\n",
    "            # Put the last element of the heap to the top of the heap\n",
    "            self.maxHeap[1] = self.maxHeap[self.realSize]\n",
    "            self.realSize -= 1\n",
    "            index = 1\n",
    "            # When the deleted element is not a leaf node\n",
    "            while (index <= self.realSize//2):\n",
    "                # left child of the deleted element\n",
    "                left = index * 2\n",
    "                # right child of the deleted element\n",
    "                right = (index * 2) + 1\n",
    "                # If the deleted element is smaller than the left or the right child\n",
    "                # The values need to be swapped\n",
    "                if (self.maxHeap[index] < self.maxHeap[left] or self.maxHeap[index] < self.maxHeap[right]):\n",
    "                    if self.maxHeap[left] > self.maxHeap[right]:\n",
    "                        self.maxHeap[left], self.maxHeap[index] = self.maxHeap[index], self.maxHeap[left]\n",
    "                        index = left\n",
    "                    else:\n",
    "                        self.maxHeap[right], self.maxHeap[index] = self.maxHeap[index], self.maxHeap[right]\n",
    "                        index = right\n",
    "                else:\n",
    "                    break\n",
    "            return removeElement\n",
    "\n",
    "    # Return then number of elements in the Heap\n",
    "    def size(self):\n",
    "        return self.realSize\n",
    "\n",
    "    def __str__(self):\n",
    "        return str(self.maxHeap[1:self.realSize + 1])\n",
    "\n",
    "if __name__ == \"__main__\":\n",
    "    \t# Test cases\n",
    "        maxHeap = MaxHeap(5)\n",
    "        maxHeap.add(1)\n",
    "        print (f\"Adding an element.The heap is: {maxHeap}\")\n",
    "        maxHeap.add(2)\n",
    "        print (f\"Adding an element.The heap is: {maxHeap}\")\n",
    "        maxHeap.add(3)\n",
    "        print (f\"Adding an element.The heap is: {maxHeap}\")\n",
    "        # [3,1,2]\n",
    "        print (f\"Topmost element of the heap: {maxHeap.peek()}\")\n",
    "        print(maxHeap.pop())\n",
    "        print (f\"Calling pop. The heap is: {maxHeap}\")\n",
    "        print(maxHeap.pop())\n",
    "        print (f\"Calling pop. The heap is: {maxHeap}\")\n",
    "        print(maxHeap.pop())\n",
    "        print (f\"Calling pop. The heap is: {maxHeap}\")\n",
    "        maxHeap.add(4)\n",
    "        print (f\"Adding an element.The heap is: {maxHeap}\")\n",
    "        maxHeap.add(5)\n",
    "        print (f\"Adding an element.The heap is: {maxHeap}\")\n",
    "        # [5,4]\n"
   ]
  },
  {
   "cell_type": "markdown",
   "metadata": {},
   "source": [
    "#### Top K Frequent problems\n",
    "\n",
    "1. Import the counter\n",
    "2. Sort the array / string\n",
    "3. Add the sorted array / string to the counter -> frequeuncy\n",
    "4. Call heapq.nlargest or heapq.nsmallest with the following arguments (k, frequency, key = frequency.get)"
   ]
  },
  {
   "cell_type": "markdown",
   "metadata": {},
   "source": [
    "#### Top K Frequent Elements (LEETCODE 347) - MEDIUM\n",
    "\n",
    "Given an integer array nums and an integer k, return the k most frequent elements. You may return the answer in any order."
   ]
  },
  {
   "cell_type": "code",
   "execution_count": 17,
   "metadata": {},
   "outputs": [
    {
     "name": "stdout",
     "output_type": "stream",
     "text": [
      "[(-3, 1), (-2, 2), (-1, 3)]\n",
      "[1, 2]\n"
     ]
    }
   ],
   "source": [
    "import heapq\n",
    "from collections import Counter\n",
    "def topKFrequent_collections(nums, k):\n",
    "    nums.sort()\n",
    "    frequency = Counter(nums)\n",
    "    res = heapq.nlargest(k, frequency, key=frequency.get)\n",
    "    return res\n",
    "\n",
    "def topKFrequent(nums, k):\n",
    "    counter = {}\n",
    "    heap = []\n",
    "    for num in nums:\n",
    "        counter[num] = counter.get(num, 0) + 1\n",
    "\n",
    "    for key, value in counter.items():\n",
    "        heapq.heappush(heap, (-value, key))\n",
    "    \n",
    "    print (heap)\n",
    "\n",
    "    result = []\n",
    "    for _ in range(k):\n",
    "        result.append(heapq.heappop(heap)[1])\n",
    "    return result\n",
    "\n",
    "nums = [1,1,1,2,2,3]\n",
    "k = 2\n",
    "print (topKFrequent(nums, k))\n",
    "\n"
   ]
  },
  {
   "cell_type": "markdown",
   "metadata": {},
   "source": [
    "#### Top K Frequent Words (LEETCODE 692) - MEDIUM\n",
    "\n",
    "Given an array of strings words and an integer k, return the k most frequent strings.\n",
    "\n",
    "Return the answer sorted by the frequency from highest to lowest. Sort the words with the same frequency by their lexicographical order."
   ]
  },
  {
   "cell_type": "code",
   "execution_count": 15,
   "metadata": {},
   "outputs": [
    {
     "name": "stdout",
     "output_type": "stream",
     "text": [
      "[(-2, 'i'), (-2, 'love'), (-1, 'leetcode'), (-1, 'coding')]\n",
      "['i']\n",
      "['i', 'love']\n",
      "['i', 'love', 'coding']\n",
      "['i', 'love', 'coding']\n"
     ]
    }
   ],
   "source": [
    "import heapq\n",
    "from collections import Counter\n",
    "def topKFrequent_collections(words, k):\n",
    "    words.sort()\n",
    "    frequency = Counter(words)\n",
    "    res = heapq.nlargest(k, frequency, key=frequency.get)\n",
    "    return res\n",
    "\n",
    "def topKFrequent(words, k):\n",
    "    counter = {}\n",
    "    heap = []\n",
    "\n",
    "    for word in words:\n",
    "        counter[word] = counter.get(word, 0) + 1\n",
    "\n",
    "    for key, value in counter.items():\n",
    "        heapq.heappush(heap, (-value, key))\n",
    "    \n",
    "    print (heap)\n",
    "\n",
    "    result = []\n",
    "    for _ in range(k):\n",
    "        result.append(heapq.heappop(heap)[1])\n",
    "        print (result)\n",
    "    \n",
    "    return result\n",
    "\n",
    "\n",
    "\n",
    "words = [\"i\",\"love\",\"leetcode\",\"i\",\"love\",\"coding\"]\n",
    "k = 2\n",
    "# words = [\"the\",\"day\",\"is\",\"sunny\",\"the\",\"the\",\"the\",\"sunny\",\"is\",\"is\"]\n",
    "# k = 4\n",
    "print (topKFrequent(words, k))"
   ]
  },
  {
   "cell_type": "markdown",
   "metadata": {},
   "source": [
    "#### Sort Characters By Frequency (LEETCODE 451) - MEDIUM\n",
    "\n",
    "Given a string s, sort it in decreasing order based on the frequency of the characters. The frequency of a character is the number of times it appears in the string.\n",
    "\n",
    "Return the sorted string. If there are multiple answers, return any of them."
   ]
  },
  {
   "cell_type": "code",
   "execution_count": 28,
   "metadata": {},
   "outputs": [
    {
     "name": "stdout",
     "output_type": "stream",
     "text": [
      "[(-2, 'e'), (-1, 't'), (-1, 'r')]\n",
      "eert\n"
     ]
    }
   ],
   "source": [
    "import heapq\n",
    "def frequencySort(s):\n",
    "    counter = {}\n",
    "    heap = []\n",
    "    for char in s:\n",
    "        counter[char] = counter.get(char, 0) + 1\n",
    "\n",
    "    for key, value in counter.items():\n",
    "        heapq.heappush(heap, (-value,key))\n",
    "\n",
    "    print (heap)\n",
    "\n",
    "    result = ''\n",
    "    while heap:\n",
    "        freq, char = heapq.heappop(heap)\n",
    "        \n",
    "        result += (-freq) * char\n",
    "        \n",
    "    return result\n",
    "\n",
    "s = \"tree\"\n",
    "print (frequencySort(s))"
   ]
  },
  {
   "cell_type": "markdown",
   "metadata": {},
   "source": [
    "### Two Lists Pattern\n",
    "#### Find K Pairs with Smallest Sums (LEETCODE 373) - MEDIUM\n",
    "\n",
    "You are given two integer arrays nums1 and nums2 sorted in non-decreasing order and an integer k.\n",
    "\n",
    "Define a pair (u, v) which consists of one element from the first array and one element from the second array.\n",
    "\n",
    "Return the k pairs (u1, v1), (u2, v2), ..., (uk, vk) with the smallest sums."
   ]
  },
  {
   "cell_type": "code",
   "execution_count": 37,
   "metadata": {},
   "outputs": [
    {
     "name": "stdout",
     "output_type": "stream",
     "text": [
      "[(3, 0, 0), (9, 1, 0), (13, 2, 0)]\n",
      "[[1, 2]]\n",
      "[(5, 0, 1), (13, 2, 0), (9, 1, 0)]\n",
      "[[1, 2], [1, 4]]\n",
      "[(7, 0, 2), (13, 2, 0), (9, 1, 0)]\n",
      "[[1, 2], [1, 4], [1, 6]]\n",
      "[[1, 2], [1, 4], [1, 6]]\n"
     ]
    }
   ],
   "source": [
    "def kSmallestPairs(nums1, nums2, k):\n",
    "    result = []\n",
    "    heap = []\n",
    "\n",
    "    for i in range(min(len(nums1), k)):\n",
    "        # Assigning j = 0, since the first element of j is always the lowest (non-decreasing order)\n",
    "        heapq.heappush(heap, (nums1[i] + nums2[0], i, 0))\n",
    "    \n",
    "    while k > 0 and heap:\n",
    "        print (heap)\n",
    "        _, i, j = heapq.heappop(heap)\n",
    "        # Both the first elements will be the smallest in a non-decreasing order array\n",
    "        result.append([nums1[i], nums2[j]])\n",
    "        # Loop through the 2nd list and append data to heap\n",
    "        if j + 1 < len(nums2):\n",
    "            heapq.heappush(heap, (nums1[i] + nums2[j + 1], i, j + 1))\n",
    "        k -= 1\n",
    "\n",
    "    return result\n",
    "\n",
    "nums1 = [1,7,11]\n",
    "nums2 = [2,4,6]\n",
    "k = 3\n",
    "print (kSmallestPairs(nums1, nums2, k))"
   ]
  },
  {
   "cell_type": "markdown",
   "metadata": {},
   "source": [
    "#### K Closest Points to Origin (LEETCODE 973) - MEDIUM\n",
    "\n",
    "Given an array of points where points[i] = [xi, yi] represents a point on the X-Y plane and an integer k, return the k closest points to the origin (0, 0).\n",
    "\n",
    "The distance between two points on the X-Y plane is the Euclidean distance (i.e., √(x1 - x2)2 + (y1 - y2)2).\n",
    "\n",
    "You may return the answer in any order. The answer is guaranteed to be unique (except for the order that it is in)."
   ]
  },
  {
   "cell_type": "code",
   "execution_count": 39,
   "metadata": {},
   "outputs": [
    {
     "name": "stdout",
     "output_type": "stream",
     "text": [
      "[(8, [-2, 2]), (10, [1, 3])]\n",
      "[[-2, 2]]\n"
     ]
    }
   ],
   "source": [
    "def kClosest(points, k):\n",
    "    heap = []\n",
    "    for point in points:\n",
    "        heapq.heappush(heap, (point[0]**2 + point[1]**2, point))\n",
    "\n",
    "    print (heap)\n",
    "\n",
    "    result = []\n",
    "    for _ in range(k):\n",
    "        result.append(heapq.heappop(heap)[1])\n",
    "    \n",
    "    return result\n",
    "\n",
    "points = [[1,3],[-2,2]]\n",
    "k = 1\n",
    "print(kClosest(points, k))\n",
    "    "
   ]
  },
  {
   "cell_type": "markdown",
   "metadata": {},
   "source": [
    "#### Kth Smallest Element in a Sorted Matrix (LEETCODE 378) - MEDIUM\n",
    "\n",
    "Given an n x n matrix where each of the rows and columns is sorted in ascending order, return the kth smallest element in the matrix.\n",
    "\n",
    "Note that it is the kth smallest element in the sorted order, not the kth distinct element.\n",
    "\n",
    "You must find a solution with a memory complexity better than O(n2)."
   ]
  },
  {
   "cell_type": "code",
   "execution_count": 53,
   "metadata": {},
   "outputs": [
    {
     "name": "stdout",
     "output_type": "stream",
     "text": [
      "[1, 5, 9, 10, 11, 13, 12, 13, 15]\n",
      "13\n"
     ]
    }
   ],
   "source": [
    "import heapq\n",
    "def kthSmallest(matrix, k):\n",
    "    heap = []\n",
    "    result = []\n",
    "\n",
    "    for i in range(0, len(matrix)):\n",
    "        for j in range(0, len(matrix[0])):\n",
    "            heapq.heappush(heap, matrix[i][j])\n",
    "\n",
    "    print (heap)\n",
    "\n",
    "    for _ in range(k):\n",
    "        result.append(heapq.heappop(heap))\n",
    "\n",
    "    return result[-1]\n",
    "\n",
    "matrix = [[1,5,9],[10,11,13],[12,13,15]]\n",
    "k = 8\n",
    "print (kthSmallest(matrix, k))"
   ]
  },
  {
   "cell_type": "markdown",
   "metadata": {},
   "source": [
    "#### Ugly Number II (LEETCODE 264) - MEDIUM\n",
    "\n",
    "An ugly number is a positive integer whose prime factors are limited to 2, 3, and 5.\n",
    "\n",
    "Given an integer n, return the nth ugly number"
   ]
  },
  {
   "cell_type": "code",
   "execution_count": 62,
   "metadata": {},
   "outputs": [
    {
     "name": "stdout",
     "output_type": "stream",
     "text": [
      "12\n"
     ]
    }
   ],
   "source": [
    "def nthUglyNumber(n):\n",
    "        \"\"\"\n",
    "        :type n: int\n",
    "        :rtype: int\n",
    "        \"\"\"\n",
    "        heap = HeapSet([1])\n",
    "        for _ in range(n):\n",
    "            current = heap.pop()\n",
    "\n",
    "            heap.add(current * 2)\n",
    "            heap.add(current * 3)\n",
    "            heap.add(current * 5)\n",
    "\n",
    "        return current\n",
    "\n",
    "class HeapSet:\n",
    "    def __init__(self, values=[]):\n",
    "        self.set = set(values)\n",
    "        self.heap = list(self.set)\n",
    "\n",
    "    def add(self, value):\n",
    "        if value not in self.set:\n",
    "            heapq.heappush(self.heap, value)\n",
    "            self.set.add(value)\n",
    "\n",
    "    def pop(self):\n",
    "        value = heapq.heappop(self.heap)\n",
    "        self.set.remove(value)\n",
    "        return value\n",
    "\n",
    "# DP solution\n",
    "def nthUglyNumber_dp(n):\n",
    "        primes = [2,3,5]\n",
    "        uglyHeap = [1]\n",
    "        visited = set()\n",
    "        visited.add(1)\n",
    "        for _ in range(n):\n",
    "            curr = heapq.heappop(uglyHeap)\n",
    "            for prime in primes:\n",
    "                new_ugly = curr * prime\n",
    "                if new_ugly not in visited:\n",
    "                    heapq.heappush(uglyHeap, new_ugly)\n",
    "                    visited.add(new_ugly)\n",
    "        return curr\n",
    "\n",
    "n = 10\n",
    "print (nthUglyNumber_dp(10))"
   ]
  },
  {
   "cell_type": "markdown",
   "metadata": {},
   "source": [
    "#### Kth Largest Element in an Array (LEETCODE 215) - MEDIUM\n",
    "\n",
    "Given an integer array nums and an integer k, return the kth largest element in the array.\n",
    "\n",
    "Note that it is the kth largest element in the sorted order, not the kth distinct element.\n",
    "\n",
    "Can you solve it without sorting?"
   ]
  },
  {
   "cell_type": "code",
   "execution_count": 68,
   "metadata": {},
   "outputs": [
    {
     "name": "stdout",
     "output_type": "stream",
     "text": [
      "[-6, -5, -4, -2, -3, -1]\n",
      "5\n"
     ]
    }
   ],
   "source": [
    "def findKthLargest(nums, k):\n",
    "    heap = []\n",
    "    result = []\n",
    "\n",
    "    for number in nums:\n",
    "        heapq.heappush(heap, -number)\n",
    "    \n",
    "    print (heap)\n",
    "\n",
    "    for _ in range(k):\n",
    "        result.append(heapq.heappop(heap))\n",
    "\n",
    "    return result[-1] * -1\n",
    "\n",
    "nums = [3,2,1,5,6,4]\n",
    "k = 2\n",
    "print (findKthLargest(nums, k))"
   ]
  }
 ],
 "metadata": {
  "kernelspec": {
   "display_name": "Python 3",
   "language": "python",
   "name": "python3"
  },
  "language_info": {
   "codemirror_mode": {
    "name": "ipython",
    "version": 3
   },
   "file_extension": ".py",
   "mimetype": "text/x-python",
   "name": "python",
   "nbconvert_exporter": "python",
   "pygments_lexer": "ipython3",
   "version": "3.12.1"
  }
 },
 "nbformat": 4,
 "nbformat_minor": 2
}
