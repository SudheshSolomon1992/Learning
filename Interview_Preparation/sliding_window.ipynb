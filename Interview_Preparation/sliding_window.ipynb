{
 "cells": [
  {
   "cell_type": "markdown",
   "metadata": {},
   "source": [
    "### PROBLEM: Max Consecutive Ones I\n",
    "#### Given a binary array, find the maximum number of consecutive 1s in this array\n"
   ]
  },
  {
   "cell_type": "code",
   "execution_count": 14,
   "metadata": {},
   "outputs": [
    {
     "name": "stdout",
     "output_type": "stream",
     "text": [
      "3\n",
      "2\n"
     ]
    }
   ],
   "source": [
    "def maxConsecutiveOnes(numbers):\n",
    "    left, right = 0, 0\n",
    "    count_zeros = 0\n",
    "    max_window_size = 0\n",
    "    # Loop through the list\n",
    "    while right < len(numbers):\n",
    "        # Expand the list\n",
    "        # Condition to stop expansion\n",
    "        if numbers[right] == 0:\n",
    "            count_zeros += 1\n",
    "        while count_zeros == 1:\n",
    "            # Process the current window      \n",
    "            max_window_size = max(max_window_size, right - left)  \n",
    "            # Contract the list \n",
    "            if numbers[left] == 0:\n",
    "                count_zeros -= 1\n",
    "            left += 1\n",
    "        right += 1\n",
    "    # Edge case: Maximum subarray is at the end of the array\n",
    "    if count_zeros < 1:\n",
    "        max_window_size = max(max_window_size, right-left)\n",
    "\n",
    "    return max_window_size\n",
    "\n",
    "numbers_1 = [1,1,0,1,1,1]\n",
    "numbers_2 = [1,0,1,1,0,1]\n",
    "out_1 = maxConsecutiveOnes(numbers_1)\n",
    "out_2 = maxConsecutiveOnes(numbers_2)\n",
    "print (out_1)\n",
    "print (out_2)"
   ]
  },
  {
   "cell_type": "markdown",
   "metadata": {},
   "source": [
    "### PROBLEM: Max Consecutive Ones II\n",
    "#### Given a binary array, find the maximum number of consecutive 1s in this array if you can flip at most one zero\n"
   ]
  },
  {
   "cell_type": "code",
   "execution_count": 18,
   "metadata": {},
   "outputs": [
    {
     "name": "stdout",
     "output_type": "stream",
     "text": [
      "4\n"
     ]
    }
   ],
   "source": [
    "def maxConsecutiveOnes2(numbers):\n",
    "    # initialize variables\n",
    "    left, right = 0, 0\n",
    "    count_zeros = 0\n",
    "    max_window_size = 0\n",
    "    # Loop through the list\n",
    "    while right < len(numbers):\n",
    "    # Expand the righ list\n",
    "        # Condition to stop expansion\n",
    "        if numbers[right] == 0:\n",
    "            count_zeros += 1\n",
    "        while count_zeros == 2:\n",
    "            # Process the current list\n",
    "            max_window_size = max(max_window_size, right - left)\n",
    "            # Contract the list\n",
    "            if numbers[left] == 0:\n",
    "                count_zeros -= 1\n",
    "            left += 1\n",
    "        right += 1\n",
    "    if count_zeros < 2:\n",
    "        max_window_size = max(max_window_size, right - left)\n",
    "    \n",
    "    return max_window_size\n",
    "\n",
    "numbers_1 = [1,0,1,1,0]\n",
    "out_1 = maxConsecutiveOnes2(numbers_1)\n",
    "print (out_1)"
   ]
  },
  {
   "cell_type": "markdown",
   "metadata": {},
   "source": [
    "### PROBLEM: Max Consecutive Ones III\n",
    "#### Given a binary array, find the maximum number of consecutive 1s in this array if you can flip at most k zero\n"
   ]
  },
  {
   "cell_type": "code",
   "execution_count": 4,
   "metadata": {},
   "outputs": [
    {
     "name": "stdout",
     "output_type": "stream",
     "text": [
      "6\n"
     ]
    }
   ],
   "source": [
    "def maxConsecutiveOnes3(numbers, k):\n",
    "    left, right = 0, 0\n",
    "    max_window = 0\n",
    "    count_zeros = 0\n",
    "    # Loop through the list\n",
    "    while right < len(numbers):\n",
    "        if numbers[right] == 0:\n",
    "            count_zeros += 1\n",
    "        \n",
    "        # Shrink window\n",
    "        while count_zeros > k:\n",
    "            if numbers[left] == 0:\n",
    "                count_zeros -= 1\n",
    "            left += 1\n",
    "        right += 1\n",
    "        \n",
    "        current_window = (right - left) + 1\n",
    "        max_window = max(max_window, current_window)\n",
    "    \n",
    "    return max_window\n",
    "\n",
    "numbers = [1,1,1,0,0,0,1,1,1,]\n",
    "k = 2\n",
    "print (maxConsecutiveOnes3(numbers, k))\n",
    "\n",
    "# TC: O(n)\n",
    "# SC: O(1)"
   ]
  },
  {
   "cell_type": "markdown",
   "metadata": {},
   "source": [
    "### PROBLEM: Substrings of Size Three with Distinct Characters\n",
    "#### Find the number of good strings. A string is considered good if it does not contain any duplicates\n"
   ]
  },
  {
   "cell_type": "code",
   "execution_count": 23,
   "metadata": {},
   "outputs": [
    {
     "name": "stdout",
     "output_type": "stream",
     "text": [
      "3\n"
     ]
    }
   ],
   "source": [
    "# Static Windoe\n",
    "k = 3\n",
    "def countGoodSubstrings(string):\n",
    "    string_length = len(string)\n",
    "    good_strings = 0\n",
    "    for index in range(string_length - 2):\n",
    "        if string[index] != string[index + 1] and string[index] != string[index + 2] and string[index + 1] != string[index+2]:\n",
    "            good_strings += 1\n",
    "    return good_strings\n",
    "\n",
    "out = countGoodSubstrings(\"xyzzabc\")\n",
    "print (out)\n",
    "    \n"
   ]
  },
  {
   "cell_type": "markdown",
   "metadata": {},
   "source": [
    "### PROBLEM: Alternating Groups 1 (LEETCODE 3206) - EASY\n",
    "#### Every 3 contiguous tiles in the circle with alternating colors (the middle tile has a different color from its left and right tiles) is called an alternating group.Return the number of alternating groups."
   ]
  },
  {
   "cell_type": "code",
   "execution_count": null,
   "metadata": {},
   "outputs": [],
   "source": [
    "def numberOfAlternatingGroups(colors):\n",
    "    "
   ]
  },
  {
   "cell_type": "markdown",
   "metadata": {},
   "source": [
    "### PROBLEM: Maximum Average Subarray I (LEETCODE 643)\n",
    "#### You are given an integer array nums consisting of n elements, and an integer k. Find a contiguous subarray whose length is equal to k that has the maximum average value and return this value\n"
   ]
  },
  {
   "cell_type": "code",
   "execution_count": 25,
   "metadata": {},
   "outputs": [
    {
     "name": "stdout",
     "output_type": "stream",
     "text": [
      "12.75\n"
     ]
    }
   ],
   "source": [
    "def findMaxAverage(nums, k):\n",
    "    start, end = 0, 0\n",
    "    window_sum = 0\n",
    "    max_avg = float('-inf')\n",
    "    while end < len(nums):\n",
    "        if k > (end-start):\n",
    "            window_sum += nums[end]\n",
    "        if k == (end-start+1):\n",
    "            max_avg = max(max_avg, window_sum)\n",
    "            window_sum -= nums[start]\n",
    "            start += 1\n",
    "        end += 1\n",
    "    return max_avg/float(k)\n",
    "\n",
    "nums = [1,12,-5,-6,50,3]\n",
    "k = 4\n",
    "out = findMaxAverage(nums, k)\n",
    "print (out)"
   ]
  },
  {
   "cell_type": "markdown",
   "metadata": {},
   "source": [
    "### PROBLEM: Longest Subarray of 1s after deleting one element (LEETCODE 1493) - MEDIUM\n",
    "#### Given a binary array nums, you should delete one element from it. Return the size of the longest non-empty subarray containing only 1's in the resulting array. Return 0 if there is no such subarray."
   ]
  },
  {
   "cell_type": "code",
   "execution_count": 28,
   "metadata": {},
   "outputs": [
    {
     "name": "stdout",
     "output_type": "stream",
     "text": [
      "left: 0, right:0, count_zeros:0, max_window_size: 0\n",
      "left: 0, right:1, count_zeros:0, max_window_size: 0\n",
      "left: 0, right:2, count_zeros:0, max_window_size: 1\n",
      "left: 0, right:3, count_zeros:1, max_window_size: 2\n",
      "3\n"
     ]
    }
   ],
   "source": [
    "def longestSubarray(nums):\n",
    "    left, right = 0, 0\n",
    "    count_zeros = 0\n",
    "    max_window_size = 0\n",
    "    while right < len(nums):\n",
    "        print (f\"left: {left}, right:{right}, count_zeros:{count_zeros}, max_window_size: {max_window_size}\")\n",
    "        # Condition to expand\n",
    "        if nums[right] == 0:\n",
    "            count_zeros += 1\n",
    "        # Condition to stop expansion\n",
    "        while count_zeros > 1:\n",
    "            if nums[left] == 0:\n",
    "                count_zeros -= 1\n",
    "            # Contract the list\n",
    "            left += 1\n",
    "        max_window_size = max(max_window_size, right - left)\n",
    "        right += 1\n",
    "    return max_window_size\n",
    "\n",
    "nums = [1,1,0,1]\n",
    "out = longestSubarray(nums)\n",
    "print (out)\n"
   ]
  }
 ],
 "metadata": {
  "kernelspec": {
   "display_name": "Python 3",
   "language": "python",
   "name": "python3"
  },
  "language_info": {
   "codemirror_mode": {
    "name": "ipython",
    "version": 3
   },
   "file_extension": ".py",
   "mimetype": "text/x-python",
   "name": "python",
   "nbconvert_exporter": "python",
   "pygments_lexer": "ipython3",
   "version": "3.12.1"
  }
 },
 "nbformat": 4,
 "nbformat_minor": 2
}
