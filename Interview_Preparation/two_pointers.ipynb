{
 "cells": [
  {
   "cell_type": "markdown",
   "metadata": {},
   "source": [
    "### 283. Move Zeroes"
   ]
  },
  {
   "cell_type": "code",
   "execution_count": 11,
   "metadata": {},
   "outputs": [
    {
     "name": "stdout",
     "output_type": "stream",
     "text": [
      "[1, 3, 12, 0, 0]\n"
     ]
    }
   ],
   "source": [
    "def moveZeroes(nums):\n",
    "    left, right = 0, 0\n",
    "    while right < len(nums):\n",
    "        # Increment right pointer\n",
    "        # Condition to increment left pointer\n",
    "        if nums[left] == 0 and nums[right] != 0:\n",
    "            # Swap the numbers\n",
    "            nums[left], nums[right] = nums[right], nums[left]\n",
    "            left += 1\n",
    "        if nums[left] != 0 and nums[right] != 0:\n",
    "            left += 1\n",
    "\n",
    "        right += 1\n",
    "    return nums\n",
    "\n",
    "nums = [0,1,0,3,12]\n",
    "out = moveZeroes(nums)\n",
    "print (out)"
   ]
  },
  {
   "cell_type": "markdown",
   "metadata": {},
   "source": [
    "### Container With Most Water (LEETCODE 11) - MEDIUM"
   ]
  },
  {
   "cell_type": "code",
   "execution_count": 16,
   "metadata": {},
   "outputs": [
    {
     "name": "stdout",
     "output_type": "stream",
     "text": [
      "1\n"
     ]
    }
   ],
   "source": [
    "def maxArea(height):\n",
    "    # initialize the pointers\n",
    "    left, right = 0, len(height)-1\n",
    "    max_area = 0\n",
    "    # loop termination condition\n",
    "    while left!= right:\n",
    "        curr_area = (right - left) * min(height[left], height[right])\n",
    "        max_area = max(max_area, curr_area)\n",
    "        # condition - left pointer\n",
    "        if height[left] < height[right]: left += 1\n",
    "        # condition - right pointer\n",
    "        else: right -= 1\n",
    "\n",
    "    return max_area\n",
    "# height = [1,8,6,2,5,4,8,3,7]\n",
    "height = [1,1]\n",
    "out = maxArea(height)\n",
    "print (out)"
   ]
  },
  {
   "cell_type": "markdown",
   "metadata": {},
   "source": [
    "### Max Number of K-Sum Pairs (LEETCODE 1679) - MEDIUM"
   ]
  },
  {
   "cell_type": "code",
   "execution_count": 24,
   "metadata": {},
   "outputs": [
    {
     "name": "stdout",
     "output_type": "stream",
     "text": [
      "left:0, right:4, count_operations:0\n",
      "left:1, right:3, count_operations:1\n",
      "left:1, right:2, count_operations:1\n",
      "1\n"
     ]
    }
   ],
   "source": [
    "# basic\n",
    "def maxOperations(nums, k):\n",
    "    # initialize pointers\n",
    "    left, right = 0, len(nums) - 1\n",
    "    count_operations = 0\n",
    "    # loop termination condition\n",
    "    while left != right:\n",
    "        if nums[left] + nums[right] == k:\n",
    "            left += 1\n",
    "            count_operations += 1\n",
    "        right -= 1\n",
    "    return count_operations\n",
    "\n",
    "nums = [3,1,3,4,3]\n",
    "k = 6\n",
    "out = maxOperations(nums, k)\n",
    "print (out)"
   ]
  },
  {
   "cell_type": "code",
   "execution_count": 26,
   "metadata": {},
   "outputs": [
    {
     "name": "stdout",
     "output_type": "stream",
     "text": [
      "1\n"
     ]
    }
   ],
   "source": [
    "# optimal\n",
    "def maxOperations(nums, k):\n",
    "    nums.sort()\n",
    "    count_operations, left, right = 0, 0, len(nums) - 1\n",
    "    while left < right:\n",
    "        if (nums[left] + nums[right])  == k:\n",
    "            left += 1\n",
    "            right -= 1\n",
    "            count_operations += 1\n",
    "        elif (nums[left] + nums[right]) < k:\n",
    "            left += 1\n",
    "        else:\n",
    "            right -= 1\n",
    "    return count_operations\n",
    "\n",
    "nums = [3,1,3,4,3]\n",
    "k = 6\n",
    "out = maxOperations(nums, k)\n",
    "print (out)"
   ]
  },
  {
   "cell_type": "code",
   "execution_count": null,
   "metadata": {},
   "outputs": [],
   "source": []
  }
 ],
 "metadata": {
  "kernelspec": {
   "display_name": "Python 3",
   "language": "python",
   "name": "python3"
  },
  "language_info": {
   "codemirror_mode": {
    "name": "ipython",
    "version": 3
   },
   "file_extension": ".py",
   "mimetype": "text/x-python",
   "name": "python",
   "nbconvert_exporter": "python",
   "pygments_lexer": "ipython3",
   "version": "3.12.1"
  }
 },
 "nbformat": 4,
 "nbformat_minor": 2
}
