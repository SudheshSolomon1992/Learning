{
 "cells": [
  {
   "cell_type": "code",
   "execution_count": 13,
   "metadata": {},
   "outputs": [],
   "source": [
    "# Create a Node class to create a node\n",
    "class Node:\n",
    "    def __init__(self, data):\n",
    "        self.data = data\n",
    "        self.next = None\n",
    "\n",
    "# Create a LinkedList class\n",
    "class LinkedList:\n",
    "    def __init__(self):\n",
    "        self.head = None\n",
    "\n",
    "    # Method to add a node at begin of LL\n",
    "    def insertAtBegin(self, data):\n",
    "        new_node = Node(data)\n",
    "        if self.head is None:\n",
    "            self.head = new_node\n",
    "            return\n",
    "        else:\n",
    "            new_node.next = self.head\n",
    "            self.head = new_node\n",
    "\n",
    "    # Method to add a node at any index\n",
    "    # Indexing starts from 0.\n",
    "    def insertAtIndex(self, data, index):\n",
    "        if (index == 0):\n",
    "            self.insertAtBegin(data)\n",
    "            \n",
    "        position = 0\n",
    "        current_node = self.head\n",
    "        while (current_node != None and position+1 != index):\n",
    "            position = position+1\n",
    "            current_node = current_node.next\n",
    "\n",
    "        if current_node != None:\n",
    "            new_node = Node(data)\n",
    "            new_node.next = current_node.next\n",
    "            current_node.next = new_node\n",
    "        else:\n",
    "            print(\"Index not present\")\n",
    "\n",
    "    # Method to add a node at the end of LL\n",
    "    def insertAtEnd(self, data):\n",
    "        new_node = Node(data)\n",
    "        if self.head is None:\n",
    "            self.head = new_node\n",
    "            return\n",
    "\n",
    "        current_node = self.head\n",
    "        while(current_node.next):\n",
    "            current_node = current_node.next\n",
    "\n",
    "        current_node.next = new_node\n",
    "\n",
    "    # Update node of a linked list\n",
    "        # at given position\n",
    "    def updateNode(self, val, index):\n",
    "        current_node = self.head\n",
    "        position = 0\n",
    "        if position == index:\n",
    "            current_node.data = val\n",
    "        else:\n",
    "            while(current_node != None and position != index):\n",
    "                position = position+1\n",
    "                current_node = current_node.next\n",
    "\n",
    "            if current_node != None:\n",
    "                current_node.data = val\n",
    "            else:\n",
    "                print(\"Index not present\")\n",
    "\n",
    "    # Method to remove first node of linked list\n",
    "\n",
    "    def remove_first_node(self):\n",
    "        if(self.head == None):\n",
    "            return\n",
    "\n",
    "        self.head = self.head.next\n",
    "\n",
    "    # Method to remove last node of linked list\n",
    "    def remove_last_node(self):\n",
    "\n",
    "        if self.head is None:\n",
    "            return\n",
    "\n",
    "        current_node = self.head\n",
    "        while(current_node != None and current_node.next.next != None):\n",
    "            current_node = current_node.next\n",
    "\n",
    "        current_node.next = None\n",
    "\n",
    "    # Method to remove at given index\n",
    "    def remove_at_index(self, index):\n",
    "        if self.head == None:\n",
    "            return\n",
    "\n",
    "        current_node = self.head\n",
    "        position = 0\n",
    "        if position == index:\n",
    "            self.remove_first_node()\n",
    "        else:\n",
    "            while(current_node != None and position+1 != index):\n",
    "                position = position+1\n",
    "                current_node = current_node.next\n",
    "\n",
    "            if current_node != None:\n",
    "                current_node.next = current_node.next.next\n",
    "            else:\n",
    "                print(\"Index not present\")\n",
    "\n",
    "    # Method to remove a node from linked list\n",
    "    def remove_node(self, data):\n",
    "        current_node = self.head\n",
    "\n",
    "        if current_node.data == data:\n",
    "            self.remove_first_node()\n",
    "            return\n",
    "\n",
    "        while(current_node != None and current_node.next.data != data):\n",
    "            current_node = current_node.next\n",
    "\n",
    "        if current_node == None:\n",
    "            return\n",
    "        else:\n",
    "            current_node.next = current_node.next.next\n",
    "\n",
    "    # Print the size of linked list\n",
    "    def sizeOfLL(self):\n",
    "        size = 0\n",
    "        if(self.head):\n",
    "            current_node = self.head\n",
    "            while(current_node):\n",
    "                size = size+1\n",
    "                current_node = current_node.next\n",
    "            return size\n",
    "        else:\n",
    "            return 0\n",
    "\n",
    "    # print method for the linked list\n",
    "    def printLL(self):\n",
    "        current_node = self.head\n",
    "        list_string = ''\n",
    "        while(current_node):\n",
    "            if len(list_string) > 0:\n",
    "                list_string = list_string + ' -> ' + str(current_node.data)\n",
    "            else:\n",
    "                list_string = str(current_node.data)\n",
    "            current_node = current_node.next\n",
    "        print(list_string)"
   ]
  },
  {
   "cell_type": "code",
   "execution_count": 15,
   "metadata": {},
   "outputs": [],
   "source": [
    "# Initialize the linked list\n",
    "llist = LinkedList()"
   ]
  },
  {
   "cell_type": "code",
   "execution_count": 11,
   "metadata": {},
   "outputs": [],
   "source": [
    "# Add nodes to the linkedlist\n",
    "llist.insertAtEnd('a')\n",
    "llist.insertAtEnd('b')\n",
    "llist.insertAtBegin('c')\n",
    "llist.insertAtEnd('d')\n",
    "llist.insertAtIndex('g', 2)"
   ]
  },
  {
   "cell_type": "code",
   "execution_count": 12,
   "metadata": {},
   "outputs": [
    {
     "name": "stdout",
     "output_type": "stream",
     "text": [
      "c -> a -> g -> b -> d\n"
     ]
    }
   ],
   "source": [
    "# # Print the Linked List\n",
    "llist.printLL()"
   ]
  },
  {
   "cell_type": "code",
   "execution_count": 49,
   "metadata": {},
   "outputs": [
    {
     "name": "stdout",
     "output_type": "stream",
     "text": [
      "Original Linked List\n",
      "c -> a -> g -> b -> d\n",
      "Removing first node\n",
      "a -> g -> b -> d\n",
      "Removing last node\n",
      "a -> g -> b\n",
      "Removing node at specified index\n",
      "a -> b\n"
     ]
    }
   ],
   "source": [
    "# Remove nodes from the Linked List\n",
    "print (\"Original Linked List\")\n",
    "llist.printLL()\n",
    "print (\"Removing first node\")\n",
    "llist.remove_first_node()\n",
    "llist.printLL()\n",
    "print (\"Removing last node\")\n",
    "llist.remove_last_node()\n",
    "llist.printLL()\n",
    "print (\"Removing node at specified index\")\n",
    "llist.remove_at_index(1)\n",
    "llist.printLL()"
   ]
  },
  {
   "cell_type": "code",
   "execution_count": 50,
   "metadata": {},
   "outputs": [
    {
     "name": "stdout",
     "output_type": "stream",
     "text": [
      "Original Linked List\n",
      "a -> b\n",
      "Updating the node value given the index\n",
      "z -> b\n",
      "Updated Linked List\n",
      "z -> b\n"
     ]
    }
   ],
   "source": [
    "# Updating the Linked List\n",
    "print (\"Original Linked List\")\n",
    "llist.printLL()\n",
    "print (\"Updating the node value given the index\")\n",
    "llist.updateNode('z', 0)\n",
    "llist.printLL()\n",
    "print (\"Updated Linked List\")\n",
    "llist.printLL()"
   ]
  },
  {
   "cell_type": "code",
   "execution_count": 53,
   "metadata": {},
   "outputs": [
    {
     "name": "stdout",
     "output_type": "stream",
     "text": [
      "Current Linked List size: 2\n"
     ]
    }
   ],
   "source": [
    "# Size of the Linked List\n",
    "print (f\"Current Linked List size: {str(llist.sizeOfLL())}\")"
   ]
  },
  {
   "cell_type": "markdown",
   "metadata": {},
   "source": [
    "#### Delete the middle node of the LinkedList (LEETCODE 2095) - MEDIUM\n",
    "\n",
    "You are given the head of a linked list. Delete the middle node, and return the head of the modified linked list.\n",
    "\n",
    "The middle node of a linked list of size n is the ⌊n / 2⌋th node from the start using 0-based indexing, where ⌊x⌋ denotes the largest integer less than or equal to x.\n",
    "\n",
    "For n = 1, 2, 3, 4, and 5, the middle nodes are 0, 1, 1, 2, and 2, respectively."
   ]
  },
  {
   "cell_type": "code",
   "execution_count": null,
   "metadata": {},
   "outputs": [],
   "source": [
    "def deleteMiddle(self, head):\n",
    "    \"\"\"\n",
    "    :type head: Optional[ListNode]\n",
    "    :rtype: Optional[ListNode]\n",
    "    \"\"\"\n",
    "    if not head.next:\n",
    "        return\n",
    "    slow, fast = head, head\n",
    "    while fast and fast.next:\n",
    "        slow = slow.next\n",
    "        if fast.next and fast.next.next:\n",
    "            fast = fast.next.next\n",
    "    # Slow pointer will be in the middle element after one pass\n",
    "    if slow.next:\n",
    "        slow.val = slow.next.val\n",
    "        slow.next = slow.next.next\n",
    "    else:\n",
    "        head.next = None\n",
    "    return head "
   ]
  },
  {
   "cell_type": "markdown",
   "metadata": {},
   "source": [
    "#### Odd Even Linked List (LEETCODE 328) - MEDIUM\n",
    "\n",
    "Given the head of a singly linked list, group all the nodes with odd indices together followed by the nodes with even indices, and return the reordered list.\n",
    "\n",
    "The first node is considered odd, and the second node is even, and so on.\n",
    "\n",
    "Note that the relative order inside both the even and odd groups should remain as it was in the input.\n",
    "\n",
    "You must solve the problem in O(1) extra space complexity and O(n) time complexity."
   ]
  },
  {
   "cell_type": "code",
   "execution_count": null,
   "metadata": {},
   "outputs": [],
   "source": [
    "def oddEvenList(self, head):\n",
    "        \"\"\"\n",
    "        :type head: ListNode\n",
    "        :rtype: ListNode\n",
    "        \"\"\"\n",
    "        if not head or not head.next:\n",
    "            return head\n",
    "        odd, even = head,head.next\n",
    "        even_head = even\n",
    "        while even and even.next:\n",
    "            # Connect the next odd node with the current odd node\n",
    "            odd.next = even.next\n",
    "            odd = odd.next\n",
    "\n",
    "            # Connect the next even node with the current even node\n",
    "            even.next = odd.next\n",
    "            even = even.next\n",
    "\n",
    "        # Connect the last node with the head of even nodes\n",
    "        odd.next = even_head\n",
    "\n",
    "        return head"
   ]
  }
 ],
 "metadata": {
  "kernelspec": {
   "display_name": "Python 3",
   "language": "python",
   "name": "python3"
  },
  "language_info": {
   "codemirror_mode": {
    "name": "ipython",
    "version": 3
   },
   "file_extension": ".py",
   "mimetype": "text/x-python",
   "name": "python",
   "nbconvert_exporter": "python",
   "pygments_lexer": "ipython3",
   "version": "3.12.1"
  }
 },
 "nbformat": 4,
 "nbformat_minor": 2
}
