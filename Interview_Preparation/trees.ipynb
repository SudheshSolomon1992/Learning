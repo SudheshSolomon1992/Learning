{
 "cells": [
  {
   "cell_type": "code",
   "execution_count": 18,
   "metadata": {},
   "outputs": [],
   "source": [
    "class TreeNode:\n",
    "    def __init__(self, data):\n",
    "        self.data = data\n",
    "        self.children = []\n",
    "\n",
    "    def add_child(self, child):\n",
    "        self.children.append(child)\n",
    "\n",
    "# Depth-first traversal\n",
    "def depth_first_traversal(node):\n",
    "    if node is None:\n",
    "        return\n",
    "    print (node.data)\n",
    "    for child in node.children:\n",
    "        depth_first_traversal(child)\n",
    "\n",
    "# Depth first search\n",
    "def depth_first_search(node, target):\n",
    "    if node is None:\n",
    "        return False\n",
    "    if node.data == target:\n",
    "        return True\n",
    "    for child in node.children:\n",
    "        if depth_first_search(child, target):\n",
    "            return True\n",
    "    return False\n",
    "\n",
    "# Insertion\n",
    "def insert_node(root, node):\n",
    "    if root is None:\n",
    "        root = node\n",
    "    else:\n",
    "        root.add_child(node)\n",
    "\n",
    "# Deletion\n",
    "def delete_node(root, target):\n",
    "    if root is None:\n",
    "        return None\n",
    "    else:\n",
    "        root.children = [child for child in root.children if child.data != target]\n",
    "        for child in root.children:\n",
    "            delete_node(child, target)\n",
    "\n",
    "# Calculate height\n",
    "def tree_height(node):\n",
    "    if node is None:\n",
    "        return 0\n",
    "    if not node.children:\n",
    "        return 1\n",
    "    return 1+max(tree_height(child) for child in node.children)"
   ]
  },
  {
   "cell_type": "code",
   "execution_count": 19,
   "metadata": {},
   "outputs": [],
   "source": [
    "# Create the root node\n",
    "root = TreeNode(\"A\")\n",
    "# Create child nodes\n",
    "child1 = TreeNode(\"B\")\n",
    "child2 = TreeNode(\"C\")\n",
    "child3 = TreeNode(\"D\")\n",
    "\n",
    "# Add child nodes to the root node\n",
    "root.add_child(child1)\n",
    "root.add_child(child2)\n",
    "root.add_child(child3)\n"
   ]
  },
  {
   "cell_type": "code",
   "execution_count": 20,
   "metadata": {},
   "outputs": [
    {
     "name": "stdout",
     "output_type": "stream",
     "text": [
      "Pre-order traversal:\n",
      "A\n",
      "B\n",
      "C\n",
      "D\n"
     ]
    }
   ],
   "source": [
    "# Traversal example (pre-order) - depth first\n",
    "print(\"Depth first traversal:\")\n",
    "depth_first_traversal(root)"
   ]
  },
  {
   "cell_type": "code",
   "execution_count": 21,
   "metadata": {},
   "outputs": [
    {
     "name": "stdout",
     "output_type": "stream",
     "text": [
      "Is D present in the tree? True\n"
     ]
    }
   ],
   "source": [
    "# Searching example\n",
    "target_value = \"D\"\n",
    "print(f\"Is {target_value} present in the tree? {depth_first_search(root, target_value)}\")"
   ]
  },
  {
   "cell_type": "code",
   "execution_count": 22,
   "metadata": {},
   "outputs": [
    {
     "name": "stdout",
     "output_type": "stream",
     "text": [
      "After insertion:\n",
      "A\n",
      "B\n",
      "E\n",
      "C\n",
      "D\n"
     ]
    }
   ],
   "source": [
    "# Insertion example\n",
    "new_node = TreeNode(\"E\")\n",
    "insert_node(child1, new_node)\n",
    "print(\"After insertion:\")\n",
    "depth_first_traversal(root)\n"
   ]
  },
  {
   "cell_type": "code",
   "execution_count": 23,
   "metadata": {},
   "outputs": [
    {
     "name": "stdout",
     "output_type": "stream",
     "text": [
      "After deletion:\n",
      "A\n",
      "B\n",
      "E\n",
      "D\n"
     ]
    }
   ],
   "source": [
    "# Deletion example\n",
    "delete_node(root, \"C\")\n",
    "print(\"After deletion:\")\n",
    "depth_first_traversal(root)"
   ]
  },
  {
   "cell_type": "code",
   "execution_count": 24,
   "metadata": {},
   "outputs": [
    {
     "name": "stdout",
     "output_type": "stream",
     "text": [
      "Height of the tree: 3\n"
     ]
    }
   ],
   "source": [
    "# Height calculation example\n",
    "print(\"Height of the tree:\", tree_height(root))"
   ]
  },
  {
   "cell_type": "markdown",
   "metadata": {},
   "source": [
    "#### BINARY TREE"
   ]
  },
  {
   "cell_type": "code",
   "execution_count": 25,
   "metadata": {},
   "outputs": [],
   "source": [
    "class BinaryTreeNode:\n",
    "    def __init__(self, data):\n",
    "        self.data = data\n",
    "        self.left = None\n",
    "        self.right = None\n",
    "\n",
    "    # Insertion\n",
    "    def insert_node(self, data):\n",
    "        root = BinaryTreeNode(data)\n",
    "        if self.data:\n",
    "            if data < self.data:\n",
    "                if self.left is None:\n",
    "                    self.left = root\n",
    "                else:\n",
    "                    self.left.insert_node(data)\n",
    "\n",
    "            elif data > self.data:\n",
    "                if self.right is None:\n",
    "                    self.right = root\n",
    "                else:\n",
    "                    self.right.insert_node(data)\n",
    "        else:\n",
    "            self.data = data\n",
    "\n",
    "    # Print Tree\n",
    "    def print_tree(self):\n",
    "        if self.left:\n",
    "            self.left.print_tree()\n",
    "        print (self.data)\n",
    "        if self.right:\n",
    "            self.right.print_tree()\n",
    "\n",
    "# Traversal\n",
    "# In-order Traversal: left -> root -> right\n",
    "# inorder_output, preorder_output, postorder_output = [], [], []\n",
    "output = []\n",
    "def inorderTraversal(root, output):\n",
    "    # Base case: if null\n",
    "    if root is None:\n",
    "        return\n",
    "    \n",
    "    # Recur on the left subtree\n",
    "    inorderTraversal(root.left, output)\n",
    "\n",
    "    # Visit the current node\n",
    "    if root.data is not None:\n",
    "        output.append(root.data)\n",
    "\n",
    "    # Recur on the right subtree\n",
    "    inorderTraversal(root.right, output)\n",
    "\n",
    "    return output\n",
    "\n",
    "# Pre-order Traversal: root -> left -> right\n",
    "def preorderTraversal(root, output):\n",
    "    # Base case: if null\n",
    "    if root is None:\n",
    "        return\n",
    "    \n",
    "    # visit the current node\n",
    "    if root.data is not None:\n",
    "        output.append(root.data)\n",
    "    \n",
    "    # Recur the left subtree\n",
    "    preorderTraversal(root.left, output)\n",
    "\n",
    "    # Recur the right subtree\n",
    "    preorderTraversal(root.right, output)\n",
    "\n",
    "    return output\n",
    "\n",
    "# Post-order traversal: left -> right -> root\n",
    "def postorderTraversal(root, output):\n",
    "    # Base case: if null\n",
    "    if root is None:\n",
    "        return\n",
    "    \n",
    "    # Recur the left subtree\n",
    "    postorderTraversal(root.left, output)\n",
    "\n",
    "    # Recur the right subtree\n",
    "    postorderTraversal(root.right, output)\n",
    "\n",
    "    # Visit the node\n",
    "    if root.data is not None:\n",
    "        output.append(root.data)\n",
    "    \n",
    "    return output\n",
    "\n",
    "\n",
    "\n",
    "    "
   ]
  },
  {
   "cell_type": "code",
   "execution_count": 17,
   "metadata": {},
   "outputs": [
    {
     "name": "stdout",
     "output_type": "stream",
     "text": [
      "InOrder Traversal: [4, 2, 5, 1, 3]\n",
      "PreOrder Traversal: [1, 2, 4, 5, 3]\n",
      "PostOrder Traversal: [4, 5, 2, 3, 1]\n"
     ]
    }
   ],
   "source": [
    "# Create Root Node\n",
    "root = BinaryTreeNode(1)\n",
    "# Create child nodes\n",
    "root.left = BinaryTreeNode(2)\n",
    "root.right = BinaryTreeNode(3)\n",
    "root.left.left = BinaryTreeNode(4)\n",
    "root.left.right = BinaryTreeNode(5)\n",
    "out = inorderTraversal(root, [])\n",
    "print (f\"InOrder Traversal: {out}\")\n",
    "out = preorderTraversal(root, [])\n",
    "print (f\"PreOrder Traversal: {out}\")\n",
    "out = postorderTraversal(root, [])\n",
    "print (f\"PostOrder Traversal: {out}\")\n"
   ]
  },
  {
   "cell_type": "markdown",
   "metadata": {},
   "source": [
    "#### Binary Tree Inorder Traversal (LEETCODE 94) - EASY"
   ]
  },
  {
   "cell_type": "code",
   "execution_count": 2,
   "metadata": {},
   "outputs": [],
   "source": [
    "class TreeNode(object):\n",
    "    def __init__(self, val=0, left=None, right=None):\n",
    "        self.val = val\n",
    "        self.left = left\n",
    "        self.right = right\n",
    "        \n",
    "class Solution(object):\n",
    "    def inorderTraversal(self, root):\n",
    "        \"\"\"\n",
    "        :type root: TreeNode\n",
    "        :rtype: List[int]\n",
    "        \"\"\"\n",
    "        array = []\n",
    "        self.inorderRec(root, array)\n",
    "        return array\n",
    "\n",
    "    \n",
    "    def inorderRec (self, root, array):\n",
    "        if root == None:\n",
    "            return\n",
    "        self.inorderRec(root.left, array)\n",
    "        array.append(root.val)\n",
    "        self.inorderRec(root.right, array)"
   ]
  },
  {
   "cell_type": "markdown",
   "metadata": {},
   "source": [
    "#### Maximum Depth of Binary Tree (LEETCODE 104) - EASY\n",
    "\n",
    "Given the root of a binary tree, return its maximum depth.\n",
    "\n",
    "A binary tree's maximum depth is the number of nodes along the longest path from the root node down to the farthest leaf node."
   ]
  },
  {
   "cell_type": "code",
   "execution_count": 26,
   "metadata": {},
   "outputs": [],
   "source": [
    "class TreeNode(object):\n",
    "    def __init__(self, val=0, left=None, right=None):\n",
    "        self.val = val\n",
    "        self.left = left\n",
    "        self.right = right\n",
    "class Solution(object):\n",
    "    def maxDepth(self, root):\n",
    "        \"\"\"\n",
    "        :type root: TreeNode\n",
    "        :rtype: int\n",
    "        \"\"\"\n",
    "        if root is None:\n",
    "            return 0\n",
    "        left_depth = self.maxDepth(root.left)\n",
    "        right_depth = self.maxDepth(root.right)\n",
    "        return 1 + max(left_depth, right_depth)"
   ]
  },
  {
   "cell_type": "markdown",
   "metadata": {},
   "source": []
  },
  {
   "cell_type": "code",
   "execution_count": null,
   "metadata": {},
   "outputs": [],
   "source": [
    "# Definition for a binary tree node.\n",
    "# class TreeNode(object):\n",
    "#     def __init__(self, val=0, left=None, right=None):\n",
    "#         self.val = val\n",
    "#         self.left = left\n",
    "#         self.right = right\n",
    "class Solution(object):\n",
    "    def leafSimilar(self, root1, root2):\n",
    "        \"\"\"\n",
    "        :type root1: TreeNode\n",
    "        :type root2: TreeNode\n",
    "        :rtype: bool\n",
    "        \"\"\"\n",
    "        root1_leaf = []\n",
    "        root2_leaf = []\n",
    "        def get_leaf_array(root, a):\n",
    "            if not root:\n",
    "                return\n",
    "            if not root.left and not root.right:\n",
    "                a.append(root.val)\n",
    "            if root.left:\n",
    "                get_leaf_array(root.left, a)\n",
    "            if root.right:\n",
    "                get_leaf_array(root.right,a)\n",
    "        get_leaf_array(root1, root1_leaf)\n",
    "        get_leaf_array(root2, root2_leaf)\n",
    "        return root1_leaf== root2_leaf"
   ]
  },
  {
   "cell_type": "markdown",
   "metadata": {},
   "source": [
    "#### Count good nodes in a binary tree (LEETCODE 1448) - MEDIUM\n",
    "\n",
    "Given a binary tree root, a node X in the tree is named good if in the path from root to X there are no nodes with a value greater than X.\n",
    "\n",
    "Return the number of good nodes in the binary tree.\n",
    "\n",
    "Input: root = [3,1,4,3,null,1,5] <br>\n",
    "Output: 4 <br>\n",
    "Explanation: Nodes in blue are good. <br>\n",
    "Root Node (3) is always a good node. <br>\n",
    "Node 4 -> (3,4) is the maximum value in the path starting from the root. <br>\n",
    "Node 5 -> (3,4,5) is the maximum value in the path <br>\n",
    "Node 3 -> (3,1,3) is the maximum value in the path <br>"
   ]
  },
  {
   "cell_type": "code",
   "execution_count": null,
   "metadata": {},
   "outputs": [],
   "source": [
    "# Definition for a binary tree node.\n",
    "# class TreeNode(object):\n",
    "#     def __init__(self, val=0, left=None, right=None):\n",
    "#         self.val = val\n",
    "#         self.left = left\n",
    "#         self.right = right\n",
    "class Solution(object):\n",
    "    def goodNodes(self, root):\n",
    "        \"\"\"\n",
    "        :type root: TreeNode\n",
    "        :rtype: int\n",
    "        \"\"\"\n",
    "        self.goodnodes  = 0\n",
    "        # Base Condition\n",
    "        if root is None:\n",
    "            return 0\n",
    "        def check_goodnode(node, compare):\n",
    "            compare = max(node.val, compare)\n",
    "            if node.val >= compare:\n",
    "                self.goodnodes += 1\n",
    "            if node.left:\n",
    "                check_goodnode(node.left, compare)\n",
    "            if node.right:\n",
    "                check_goodnode(node.right, compare)\n",
    "        compare = root.val\n",
    "        check_goodnode(root, compare)\n",
    "        \n",
    "        return self.goodnodes"
   ]
  },
  {
   "cell_type": "markdown",
   "metadata": {},
   "source": [
    "#### Path Sum III (LEETCODE 437) - MEDIUM\n",
    "\n",
    "Given the root of a binary tree and an integer targetSum, return the number of paths where the sum of the values along the path equals targetSum.\n",
    "\n",
    "The path does not need to start or end at the root or a leaf, but it must go downwards (i.e., traveling only from parent nodes to child nodes)."
   ]
  },
  {
   "cell_type": "code",
   "execution_count": null,
   "metadata": {},
   "outputs": [],
   "source": [
    "# class TreeNode(object):\n",
    "#     def __init__(self, val=0, left=None, right=None):\n",
    "#         self.val = val\n",
    "#         self.left = left\n",
    "#         self.right = right\n",
    "class Solution(object):\n",
    "    def pathSum(self, root, targetSum):\n",
    "        \"\"\"\n",
    "        :type root: TreeNode\n",
    "        :type targetSum: int\n",
    "        :rtype: int\n",
    "        \"\"\"\n",
    "        # prefix sums encountered in current path\n",
    "        sums = defaultdict(int)\n",
    "        sums[0] = 1\n",
    "\n",
    "        def dfs(root, total):\n",
    "            count = 0\n",
    "            if root:\n",
    "                total += root.val\n",
    "                # Can remove sums[currSum-targetSum] prefixSums to get target\n",
    "                count = sums[total-targetSum]\n",
    "\n",
    "                # Add value of this prefixSum\n",
    "                sums[total] += 1\n",
    "                # Explore children\n",
    "                count += dfs(root.left, total) + dfs(root.right, total)\n",
    "                # Remove value of this prefixSum (path's been explored)\n",
    "                sums[total] -= 1\n",
    "\n",
    "            return count\n",
    "\n",
    "        return dfs(root, 0)"
   ]
  },
  {
   "cell_type": "markdown",
   "metadata": {},
   "source": [
    "#### Range sum of BST (LEETCODE 938) - EASY"
   ]
  },
  {
   "cell_type": "code",
   "execution_count": null,
   "metadata": {},
   "outputs": [],
   "source": [
    "# Definition for a binary tree node.\n",
    "# class TreeNode(object):\n",
    "#     def __init__(self, val=0, left=None, right=None):\n",
    "#         self.val = val\n",
    "#         self.left = left\n",
    "#         self.right = right\n",
    "class Solution(object):\n",
    "    def rangeSumBST(self, root, low, high):\n",
    "        \"\"\"\n",
    "        :type root: TreeNode\n",
    "        :type low: int\n",
    "        :type high: int\n",
    "        :rtype: int\n",
    "        \"\"\"\n",
    "        curr_sum = 0\n",
    "        # Base case:\n",
    "        if root is None:\n",
    "            return 0\n",
    "\n",
    "        if root.val >= low and root.val <= high:\n",
    "            curr_sum += root.val\n",
    "        # traverse through the left subtree\n",
    "        leftSum = self.rangeSumBST(root.left, low, high)\n",
    "        # traverse through the right subtree\n",
    "        rightSum = self.rangeSumBST(root.right, low, high)\n",
    "        return curr_sum + leftSum + rightSum"
   ]
  },
  {
   "cell_type": "markdown",
   "metadata": {},
   "source": [
    "#### Evaluate Boolean Binary Tree (LEETCODE 2331) - EASY\n",
    "\n",
    "You are given the root of a full binary tree with the following properties:\n",
    "\n",
    "Leaf nodes have either the value 0 or 1, where 0 represents False and 1 represents True.\n",
    "Non-leaf nodes have either the value 2 or 3, where 2 represents the boolean OR and 3 represents the boolean AND.\n",
    "The evaluation of a node is as follows:\n",
    "\n",
    "If the node is a leaf node, the evaluation is the value of the node, i.e. True or False.\n",
    "Otherwise, evaluate the node's two children and apply the boolean operation of its value with the children's evaluations.\n",
    "Return the boolean result of evaluating the root node.\n",
    "\n",
    "A full binary tree is a binary tree where each node has either 0 or 2 children.\n",
    "\n",
    "A leaf node is a node that has zero children."
   ]
  },
  {
   "cell_type": "code",
   "execution_count": null,
   "metadata": {},
   "outputs": [],
   "source": [
    "# Definition for a binary tree node.\n",
    "# class TreeNode(object):\n",
    "#     def __init__(self, val=0, left=None, right=None):\n",
    "#         self.val = val\n",
    "#         self.left = left\n",
    "#         self.right = right\n",
    "class Solution(object):\n",
    "    def evaluateTree(self, root):\n",
    "        \"\"\"\n",
    "        :type root: Optional[TreeNode]\n",
    "        :rtype: bool\n",
    "        \"\"\"\n",
    "        if root.val <= 1:\n",
    "            return root.val\n",
    "        elif root.val == 2:\n",
    "            return self.evaluateTree(root.left) or self.evaluateTree(root.right)\n",
    "        else:\n",
    "            return self.evaluateTree(root.left) and self.evaluateTree(root.right)\n"
   ]
  },
  {
   "cell_type": "markdown",
   "metadata": {},
   "source": [
    "#### Sum of Left Leaves (LEETCODE 404) - EASY\n",
    "\n",
    "Given the root of a binary tree, return the sum of all left leaves.\n",
    "\n",
    "A leaf is a node with no children. A left leaf is a leaf that is the left child of another node."
   ]
  },
  {
   "cell_type": "code",
   "execution_count": null,
   "metadata": {},
   "outputs": [],
   "source": [
    "# Definition for a binary tree node.\n",
    "# class TreeNode(object):\n",
    "#     def __init__(self, val=0, left=None, right=None):\n",
    "#         self.val = val\n",
    "#         self.left = left\n",
    "#         self.right = right\n",
    "class Solution(object):\n",
    "    def sumOfLeftLeaves(self, root):\n",
    "        \"\"\"\n",
    "        :type root: TreeNode\n",
    "        :rtype: int\n",
    "        \"\"\"\n",
    "        # Base Case\n",
    "        if not root:\n",
    "            return 0\n",
    "            \n",
    "        # Left node present\n",
    "        # No left leaf node\n",
    "        # No right leaf node\n",
    "        if root.left and not root.left.left and not root.left.right:\n",
    "            return root.left.val + self.sumOfLeftLeaves(root.right)\n",
    "\n",
    "        return self.sumOfLeftLeaves(root.left) + self.sumOfLeftLeaves(root.right)"
   ]
  }
 ],
 "metadata": {
  "kernelspec": {
   "display_name": "Python 3",
   "language": "python",
   "name": "python3"
  },
  "language_info": {
   "codemirror_mode": {
    "name": "ipython",
    "version": 3
   },
   "file_extension": ".py",
   "mimetype": "text/x-python",
   "name": "python",
   "nbconvert_exporter": "python",
   "pygments_lexer": "ipython3",
   "version": "3.12.1"
  }
 },
 "nbformat": 4,
 "nbformat_minor": 2
}
