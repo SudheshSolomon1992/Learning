{
 "cells": [
  {
   "cell_type": "markdown",
   "metadata": {},
   "source": [
    "#### Subsets"
   ]
  },
  {
   "cell_type": "code",
   "execution_count": 14,
   "metadata": {},
   "outputs": [
    {
     "name": "stdout",
     "output_type": "stream",
     "text": [
      "[[], [4], [1], [1, 4]]\n"
     ]
    }
   ],
   "source": [
    "def subsets(nums):\n",
    "    res, sol = [], []\n",
    "\n",
    "    def backtrack(index):\n",
    "        if index == len(nums):\n",
    "            res.append(sol[:])\n",
    "            return\n",
    "        \n",
    "        # Dont pick nums[index]\n",
    "        backtrack(index + 1)\n",
    "\n",
    "        # Pick nums[index]\n",
    "        sol.append(nums[index])\n",
    "        backtrack(index + 1)\n",
    "        sol.pop()\n",
    "\n",
    "    backtrack(0)\n",
    "    return res\n",
    "\n",
    "nums = [1,4]\n",
    "print (subsets(nums))\n",
    "\n",
    "# TC: O(2 ** n)\n",
    "# SC: O(n)"
   ]
  },
  {
   "cell_type": "markdown",
   "metadata": {},
   "source": [
    "#### Permutations"
   ]
  },
  {
   "cell_type": "code",
   "execution_count": 15,
   "metadata": {},
   "outputs": [
    {
     "name": "stdout",
     "output_type": "stream",
     "text": [
      "[[1, 2, 3], [1, 3, 2], [2, 1, 3], [2, 3, 1], [3, 1, 2], [3, 2, 1]]\n"
     ]
    }
   ],
   "source": [
    "def permutations(nums):\n",
    "    res, sol = [], []\n",
    "\n",
    "    def backtrack():\n",
    "        if len(sol) == len(nums):\n",
    "            res.append(sol[:])\n",
    "            return\n",
    "        \n",
    "        for x in nums:\n",
    "            if x not in sol:\n",
    "                sol.append(x)\n",
    "                backtrack()\n",
    "                sol.pop()\n",
    "\n",
    "    backtrack()\n",
    "    return res\n",
    "\n",
    "nums = [1,2,3]\n",
    "print (permutations(nums))\n",
    "\n",
    "# TC: O(n!)\n",
    "# SC: O(n)"
   ]
  },
  {
   "cell_type": "markdown",
   "metadata": {},
   "source": [
    "#### Combinations of size k"
   ]
  },
  {
   "cell_type": "code",
   "execution_count": 2,
   "metadata": {},
   "outputs": [
    {
     "name": "stdout",
     "output_type": "stream",
     "text": [
      "[[2, 1], [3, 1], [3, 2], [4, 1], [4, 2], [4, 3]]\n"
     ]
    }
   ],
   "source": [
    "def combine(n,k):\n",
    "    ans, sol = [], []\n",
    "\n",
    "    def backtrack(x):\n",
    "        if len(sol) == k:\n",
    "            ans.append(sol[:])\n",
    "            return\n",
    "        \n",
    "        left = x\n",
    "        still_need = k - len(sol)\n",
    "\n",
    "        if left > still_need:\n",
    "            backtrack(x - 1)\n",
    "        \n",
    "        sol.append(x)\n",
    "        backtrack(x-1)\n",
    "        sol.pop()\n",
    "    \n",
    "    backtrack(n)\n",
    "    return ans\n",
    "\n",
    "print (combine(4, 2))\n",
    "\n",
    "# TC: O(n choose K)\n",
    "# SC: O(N)"
   ]
  },
  {
   "cell_type": "markdown",
   "metadata": {},
   "source": []
  },
  {
   "cell_type": "markdown",
   "metadata": {},
   "source": [
    "#### Combination Sum"
   ]
  },
  {
   "cell_type": "code",
   "execution_count": 4,
   "metadata": {},
   "outputs": [
    {
     "name": "stdout",
     "output_type": "stream",
     "text": [
      "[[7], [2, 2, 3]]\n"
     ]
    }
   ],
   "source": [
    "def combinationSum(nums, target):\n",
    "    res, sol = [], []\n",
    "\n",
    "    def backtrack(index, curr_sum):\n",
    "        if curr_sum == target:\n",
    "            res.append(sol[:])\n",
    "            return\n",
    "        \n",
    "        if curr_sum > target or index == len(nums):\n",
    "            return\n",
    "        \n",
    "        # do not include duplicates\n",
    "        backtrack(index + 1, curr_sum)\n",
    "\n",
    "        sol.append(nums[index])\n",
    "\n",
    "        # include duplicates\n",
    "        backtrack(index, curr_sum + nums[index])\n",
    "\n",
    "        sol.pop()\n",
    "\n",
    "    backtrack(0, 0)\n",
    "    return res\n",
    "\n",
    "nums = [2,3,6,7]\n",
    "target = 7\n",
    "print (combinationSum(nums, target))\n",
    "\n",
    "# TC: O(N ** T)\n",
    "# SC: O(N)"
   ]
  },
  {
   "cell_type": "markdown",
   "metadata": {},
   "source": [
    "#### Letter Combinations of a Phone Number"
   ]
  },
  {
   "cell_type": "code",
   "execution_count": 9,
   "metadata": {},
   "outputs": [
    {
     "name": "stdout",
     "output_type": "stream",
     "text": [
      "['ad', 'ae', 'af', 'bd', 'be', 'bf', 'cd', 'ce', 'cf']\n"
     ]
    }
   ],
   "source": [
    "def letterCombinations(digits):\n",
    "    if digits == '':\n",
    "        return []\n",
    "    \n",
    "    letter_map = {\n",
    "            \"2\": \"abc\",\n",
    "            \"3\": \"def\",\n",
    "            \"4\": \"ghi\",\n",
    "            \"5\": \"jkl\",\n",
    "            \"6\": \"mno\",\n",
    "            \"7\": \"pqrs\",\n",
    "            \"8\": \"tuv\",\n",
    "            \"9\": \"wxyz\",\n",
    "        }\n",
    "\n",
    "    res, sol = [], []\n",
    "\n",
    "    def backtrack(index):\n",
    "        if index == len(digits):\n",
    "            res.append(''.join(sol))\n",
    "            return\n",
    "        \n",
    "        # Loop through the digits in the lettermap\n",
    "        for letter in letter_map[digits[index]]:\n",
    "            sol.append(letter)\n",
    "            backtrack(index+1)\n",
    "            sol.pop()\n",
    "\n",
    "    backtrack(0)\n",
    "    return res\n",
    "\n",
    "digits = '23'\n",
    "print (letterCombinations(digits))"
   ]
  },
  {
   "cell_type": "markdown",
   "metadata": {},
   "source": [
    "#### Generate Parantheses"
   ]
  },
  {
   "cell_type": "code",
   "execution_count": 10,
   "metadata": {},
   "outputs": [
    {
     "name": "stdout",
     "output_type": "stream",
     "text": [
      "['((()))', '(()())', '(())()', '()(())', '()()()']\n"
     ]
    }
   ],
   "source": [
    "def generateParantheses(n):\n",
    "    res, sol = [], []\n",
    "\n",
    "    def backtrack(open, close):\n",
    "        # 2 * number of opening brackets\n",
    "        if len(sol) == 2*n:\n",
    "            res.append(''.join(sol))\n",
    "            return\n",
    "        \n",
    "        # Less opening brackets than length of the string (n)\n",
    "        if open < n:\n",
    "            sol.append('(')\n",
    "            backtrack(open + 1, close)\n",
    "            sol.pop()\n",
    "\n",
    "        # More opening brackets than closing brakets\n",
    "        if open > close:\n",
    "            sol.append(')')\n",
    "            backtrack(open, close + 1)\n",
    "            sol.pop()\n",
    "\n",
    "    backtrack(0, 0)\n",
    "    return res\n",
    "\n",
    "print (generateParantheses(3))\n",
    "\n",
    "# TC: O(2 ** n) - Doubling effect\n",
    "# SC: O(2n) - Doubling effect"
   ]
  }
 ],
 "metadata": {
  "kernelspec": {
   "display_name": "Python 3",
   "language": "python",
   "name": "python3"
  },
  "language_info": {
   "codemirror_mode": {
    "name": "ipython",
    "version": 3
   },
   "file_extension": ".py",
   "mimetype": "text/x-python",
   "name": "python",
   "nbconvert_exporter": "python",
   "pygments_lexer": "ipython3",
   "version": "3.12.1"
  }
 },
 "nbformat": 4,
 "nbformat_minor": 2
}
