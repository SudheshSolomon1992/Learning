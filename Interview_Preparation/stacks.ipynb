{
 "cells": [
  {
   "cell_type": "markdown",
   "metadata": {},
   "source": [
    "#### Removing Stars From a String (LEETCODE 2390) - MEDIUM\n",
    "\n",
    "You are given a string s, which contains stars *.\n",
    "\n",
    "In one operation, you can:\n",
    "\n",
    "1. Choose a star in s.\n",
    "2. Remove the closest non-star character to its left, as well as remove the star itself.\n",
    "\n",
    "Return the string after all stars have been removed."
   ]
  },
  {
   "cell_type": "code",
   "execution_count": 8,
   "metadata": {},
   "outputs": [
    {
     "name": "stdout",
     "output_type": "stream",
     "text": [
      "leetcode\n"
     ]
    }
   ],
   "source": [
    "from collections import deque\n",
    "def removeStars(s):\n",
    "    stack = deque()\n",
    "    for character in s:\n",
    "        stack.append(character)\n",
    "        if character == '*':\n",
    "            stack.pop()\n",
    "            stack.pop()\n",
    "    return ''.join(stack)\n",
    "\n",
    "s = \"leet**cod*e\"\n",
    "out = removeStars(s)\n",
    "print (out)"
   ]
  },
  {
   "cell_type": "markdown",
   "metadata": {},
   "source": [
    "#### Asteroid Collision (LEETCODE 735) - MEDIUM\n",
    "\n",
    "We are given an array asteroids of integers representing asteroids in a row.\n",
    "\n",
    "For each asteroid, the absolute value represents its size, and the sign represents its direction (positive meaning right, negative meaning left). Each asteroid moves at the same speed.\n",
    "\n",
    "Find out the state of the asteroids after all collisions. If two asteroids meet, the smaller one will explode. If both are the same size, both will explode. Two asteroids moving in the same direction will never meet."
   ]
  },
  {
   "cell_type": "code",
   "execution_count": 13,
   "metadata": {},
   "outputs": [
    {
     "name": "stdout",
     "output_type": "stream",
     "text": [
      "[5, 10]\n"
     ]
    }
   ],
   "source": [
    "def asteroidCollision(asteroids):\n",
    "    stack = []\n",
    "    \n",
    "    for asteroid in asteroids:\n",
    "        while stack and asteroid < 0 < stack[-1]:\n",
    "            if stack[-1] < -asteroid:\n",
    "                stack.pop()\n",
    "                continue\n",
    "            elif stack[-1] == -asteroid:\n",
    "                stack.pop()\n",
    "            break\n",
    "        else:\n",
    "            stack.append(asteroid)\n",
    "    \n",
    "    return stack\n",
    "\n",
    "asteroids = [5, 10, -5]\n",
    "out = asteroidCollision(asteroids)\n",
    "print (out)"
   ]
  },
  {
   "cell_type": "markdown",
   "metadata": {},
   "source": [
    "####  Decode String (LEETCODE 394) - MEDIUM\n",
    "\n",
    "Given an encoded string, return its decoded string.\n",
    "\n",
    "The encoding rule is: k[encoded_string], where the encoded_string inside the square brackets is being repeated exactly k times. Note that k is guaranteed to be a positive integer.\n",
    "\n",
    "You may assume that the input string is always valid; there are no extra white spaces, square brackets are well-formed, etc. Furthermore, you may assume that the original data does not contain any digits and that digits are only for those repeat numbers, k. For example, there will not be input like 3a or 2[4].\n",
    "\n",
    "The test cases are generated so that the length of the output will never exceed 105."
   ]
  },
  {
   "cell_type": "code",
   "execution_count": 34,
   "metadata": {},
   "outputs": [
    {
     "name": "stdout",
     "output_type": "stream",
     "text": [
      "aaabcbc\n"
     ]
    }
   ],
   "source": [
    "def decodeString(s):\n",
    "    stack = []\n",
    "    curNum = 0\n",
    "    curString = ''\n",
    "    for c in s:\n",
    "        if c == '[':\n",
    "            stack.append(curString)\n",
    "            stack.append(curNum)\n",
    "            curString = ''\n",
    "            curNum = 0\n",
    "        elif c == ']':\n",
    "            num = stack.pop()\n",
    "            prevString = stack.pop()\n",
    "            curString = prevString + num*curString\n",
    "        elif c.isdigit():     # curNum*10+int(c) is helpful in keep track of more than 1 digit number\n",
    "            curNum = curNum*10 + int(c)\n",
    "        else:\n",
    "            curString += c\n",
    "    return curString\n",
    "\n",
    "s = '3[a]2[bc]'\n",
    "out = decodeString(s)\n",
    "print (out)"
   ]
  },
  {
   "cell_type": "markdown",
   "metadata": {},
   "source": [
    "#### Maximum Nesting Depth of the Parentheses (LEETCODE 1614) - EASY\n",
    "\n",
    "Given a valid parentheses string s, return the nesting depth of s. The nesting depth is the maximum number of nested parentheses."
   ]
  },
  {
   "cell_type": "code",
   "execution_count": 42,
   "metadata": {},
   "outputs": [
    {
     "name": "stdout",
     "output_type": "stream",
     "text": [
      "['(']\n",
      "[]\n",
      "['(']\n",
      "['(', '(']\n",
      "['(']\n",
      "[]\n",
      "['(']\n",
      "['(', '(']\n",
      "['(', '(', '(']\n",
      "['(', '(']\n",
      "['(', '(', '(']\n",
      "['(', '(']\n",
      "['(']\n",
      "[]\n",
      "3\n"
     ]
    }
   ],
   "source": [
    "def maxDepth(s):\n",
    "    stack = []\n",
    "    max_depth = 0\n",
    "    for character in s:\n",
    "        if character == '(':\n",
    "            stack.append(character)\n",
    "        elif character == ')':\n",
    "            max_depth = max(max_depth, len(stack))\n",
    "            stack.pop()\n",
    "    return max_depth\n",
    "\n",
    "s = '()(())((()()))'\n",
    "out = maxDepth(s)\n",
    "print (out)"
   ]
  },
  {
   "cell_type": "markdown",
   "metadata": {},
   "source": [
    "#### Remove Outermost Parentheses (LEETCODE 1021) - EASY\n",
    "\n",
    "A valid parentheses string is either empty \"\", \"(\" + A + \")\", or A + B, where A and B are valid parentheses strings, and + represents string concatenation.\n",
    "\n",
    "For example, \"\", \"()\", \"(())()\", and \"(()(()))\" are all valid parentheses strings.\n",
    "A valid parentheses string s is primitive if it is nonempty, and there does not exist a way to split it into s = A + B, with A and B nonempty valid parentheses strings.\n",
    "\n",
    "Given a valid parentheses string s, consider its primitive decomposition: s = P1 + P2 + ... + Pk, where Pi are primitive valid parentheses strings.\n",
    "\n",
    "Return s after removing the outermost parentheses of every primitive string in the primitive decomposition of s."
   ]
  },
  {
   "cell_type": "code",
   "execution_count": 45,
   "metadata": {},
   "outputs": [
    {
     "name": "stdout",
     "output_type": "stream",
     "text": [
      "()()()()(())\n"
     ]
    }
   ],
   "source": [
    "def removeOuterParentheses(s):\n",
    "    stack = []\n",
    "    final_answer = []\n",
    "    counter = 0\n",
    "    for character in s:\n",
    "        stack.append(character)\n",
    "        if character == '(':\n",
    "            counter += 1\n",
    "        elif character == ')':\n",
    "            counter -= 1\n",
    "        if counter == 0:\n",
    "            final_answer += stack[1:-1]\n",
    "            stack = []\n",
    "    return \"\".join(final_answer)\n",
    "\n",
    "s = '(()())(())(()(()))'\n",
    "out = removeOuterParentheses(s)\n",
    "print (out)"
   ]
  },
  {
   "cell_type": "markdown",
   "metadata": {},
   "source": [
    "#### Clear Digits (LEETCODE 3174) - EASY\n",
    "\n",
    "You are given a string s.\n",
    "\n",
    "Your task is to remove all digits by doing this operation repeatedly:\n",
    "\n",
    "Delete the first digit and the closest non-digit character to its left.\n",
    "Return the resulting string after removing all digits."
   ]
  },
  {
   "cell_type": "code",
   "execution_count": 49,
   "metadata": {},
   "outputs": [
    {
     "name": "stdout",
     "output_type": "stream",
     "text": [
      "\n"
     ]
    }
   ],
   "source": [
    "def clearDigits(s):\n",
    "    stack = []\n",
    "    for character in s:\n",
    "        stack.append(character)\n",
    "        if character.isdigit():\n",
    "            stack.pop()\n",
    "            stack.pop()\n",
    "    return ''.join(stack)\n",
    "\n",
    "s = 'cb34'\n",
    "out = clearDigits(s)\n",
    "print (out)"
   ]
  },
  {
   "cell_type": "markdown",
   "metadata": {},
   "source": [
    "#### Crawler Log Folder (LEETCODE 1598) - EASY\n",
    "\n",
    "The Leetcode file system keeps a log each time some user performs a change folder operation.\n",
    "\n",
    "The operations are described below:\n",
    "\n",
    "1. \"../\" : Move to the parent folder of the current folder. (If you are already in the main folder, remain in the same folder).\n",
    "2. \"./\" : Remain in the same folder.\n",
    "3. \"x/\" : Move to the child folder named x (This folder is guaranteed to always exist).\n",
    "You are given a list of strings logs where logs[i] is the operation performed by the user at the ith step.\n",
    "\n",
    "The file system starts in the main folder, then the operations in logs are performed.\n",
    "\n",
    "Return the minimum number of operations needed to go back to the main folder after the change folder operations."
   ]
  },
  {
   "cell_type": "code",
   "execution_count": 57,
   "metadata": {},
   "outputs": [
    {
     "name": "stdout",
     "output_type": "stream",
     "text": [
      "[]\n",
      "0\n"
     ]
    }
   ],
   "source": [
    "def minOperations(logs):\n",
    "    stack = []\n",
    "    for log in logs:\n",
    "        if log == '../':\n",
    "            if len(stack) > 0:\n",
    "                stack.pop()\n",
    "            else:\n",
    "                pass\n",
    "        elif log == './':\n",
    "            pass\n",
    "        else:\n",
    "            stack.append(log)\n",
    "    return len(stack)\n",
    "\n",
    "logs = [\"d1/\",\"../\",\"../\",\"../\"]\n",
    "out = minOperations(logs)\n",
    "print (out)"
   ]
  },
  {
   "cell_type": "markdown",
   "metadata": {},
   "source": [
    "#### Remove All Adjacent Duplicates In String (LEETCODE 1047) - EASY\n",
    "You are given a string s consisting of lowercase English letters. A duplicate removal consists of choosing two adjacent and equal letters and removing them.\n",
    "\n",
    "We repeatedly make duplicate removals on s until we no longer can.\n",
    "\n",
    "Return the final string after all such duplicate removals have been made. It can be proven that the answer is unique."
   ]
  },
  {
   "cell_type": "code",
   "execution_count": 85,
   "metadata": {},
   "outputs": [
    {
     "name": "stdout",
     "output_type": "stream",
     "text": [
      "['a']\n",
      "['a', 'z']\n",
      "['a', 'z', 'x']\n",
      "['a', 'z']\n",
      "['a']\n",
      "['a', 'y']\n",
      "ay\n"
     ]
    }
   ],
   "source": [
    "def removeDuplicates(s):\n",
    "    stack = []\n",
    "    for character in s:\n",
    "        if len(stack) > 0:\n",
    "            if character == stack[-1]:\n",
    "                stack.pop()\n",
    "            else:\n",
    "                stack.append(character)\n",
    "        else:\n",
    "            stack.append(character)\n",
    "        print (stack)\n",
    "    return ''.join(stack)\n",
    "\n",
    "s = 'azxxzy'\n",
    "out = removeDuplicates(s)\n",
    "print (out)"
   ]
  },
  {
   "cell_type": "markdown",
   "metadata": {},
   "source": [
    "#### Make The String Great (LEETCODE 1544) - EASY\n",
    "Given a string s of lower and upper case English letters.\n",
    "\n",
    "A good string is a string which doesn't have two adjacent characters s[i] and s[i + 1] where:\n",
    "\n",
    "1. 0 <= i <= s.length - 2\n",
    "2. s[i] is a lower-case letter and s[i + 1] is the same letter but in upper-case or vice-versa.\n",
    "\n",
    "To make the string good, you can choose two adjacent characters that make the string bad and remove them. You can keep doing this until the string becomes good.\n",
    "\n",
    "Return the string after making it good. The answer is guaranteed to be unique under the given constraints.\n",
    "\n",
    "Notice that an empty string is also good."
   ]
  },
  {
   "cell_type": "code",
   "execution_count": 89,
   "metadata": {},
   "outputs": [
    {
     "name": "stdout",
     "output_type": "stream",
     "text": [
      "leetcode\n"
     ]
    },
    {
     "ename": "",
     "evalue": "",
     "output_type": "error",
     "traceback": [
      "\u001b[1;31mThe Kernel crashed while executing code in the current cell or a previous cell. \n",
      "\u001b[1;31mPlease review the code in the cell(s) to identify a possible cause of the failure. \n",
      "\u001b[1;31mClick <a href='https://aka.ms/vscodeJupyterKernelCrash'>here</a> for more info. \n",
      "\u001b[1;31mView Jupyter <a href='command:jupyter.viewOutput'>log</a> for further details."
     ]
    }
   ],
   "source": [
    "def makeGood(s):\n",
    "    stack = []\n",
    "    for character in s:\n",
    "        if len(stack) > 0:\n",
    "            if character.islower() and stack[-1] == character.upper():\n",
    "                stack.pop() \n",
    "            elif character.isupper() and stack[-1] == character.lower():\n",
    "                stack.pop()\n",
    "            else:\n",
    "                stack.append(character)\n",
    "        else:\n",
    "            stack.append(character)\n",
    "    return ''.join(stack)\n",
    "\n",
    "s = 'leEeetcode'\n",
    "out = makeGood(s)\n",
    "print (out)"
   ]
  }
 ],
 "metadata": {
  "kernelspec": {
   "display_name": "Python 3",
   "language": "python",
   "name": "python3"
  },
  "language_info": {
   "codemirror_mode": {
    "name": "ipython",
    "version": 3
   },
   "file_extension": ".py",
   "mimetype": "text/x-python",
   "name": "python",
   "nbconvert_exporter": "python",
   "pygments_lexer": "ipython3",
   "version": "3.12.1"
  }
 },
 "nbformat": 4,
 "nbformat_minor": 2
}
