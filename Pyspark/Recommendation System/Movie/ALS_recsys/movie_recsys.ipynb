{
 "cells": [
  {
   "cell_type": "code",
   "execution_count": 3,
   "id": "8213b208-56c0-444a-ac46-5999109be559",
   "metadata": {},
   "outputs": [],
   "source": [
    "# import general libraries\n",
    "import numpy as np\n",
    "import pandas as pd\n",
    "import matplotlib.pyplot as plt\n",
    "import seaborn as sns\n",
    "import sklearn\n",
    "import random\n",
    "import os"
   ]
  },
  {
   "cell_type": "code",
   "execution_count": 18,
   "id": "bc1a43b9-0708-4780-a188-1f214d2bfebc",
   "metadata": {},
   "outputs": [],
   "source": [
    "# import pyspark libraries\n",
    "from pyspark.sql import SparkSession, SQLContext\n",
    "from pyspark.sql.functions import mean, col, split, regexp_extract, when, lit\n",
    "from pyspark.ml import Pipeline\n",
    "from pyspark.ml.evaluation import MulticlassClassificationEvaluator\n",
    "from pyspark.ml.feature import QuantileDiscretizer, StringIndexer, IndexToString"
   ]
  },
  {
   "cell_type": "code",
   "execution_count": 6,
   "id": "7df76f73-beb1-4e3f-a715-b97d39c58e0e",
   "metadata": {},
   "outputs": [],
   "source": [
    "# create spark session\n",
    "spark = SparkSession.builder.appName('recommender_system').getOrCreate()"
   ]
  },
  {
   "cell_type": "code",
   "execution_count": 12,
   "id": "088f2ca6-28af-4516-83b6-370e53cfc0c0",
   "metadata": {},
   "outputs": [],
   "source": [
    "df = spark.read.csv('movie_rating.csv',inferSchema=True,header=True)"
   ]
  },
  {
   "cell_type": "code",
   "execution_count": 15,
   "id": "21708c22-05c8-4d86-9fcc-faa113f9636d",
   "metadata": {},
   "outputs": [
    {
     "data": {
      "text/html": [
       "<div>\n",
       "<style scoped>\n",
       "    .dataframe tbody tr th:only-of-type {\n",
       "        vertical-align: middle;\n",
       "    }\n",
       "\n",
       "    .dataframe tbody tr th {\n",
       "        vertical-align: top;\n",
       "    }\n",
       "\n",
       "    .dataframe thead th {\n",
       "        text-align: right;\n",
       "    }\n",
       "</style>\n",
       "<table border=\"1\" class=\"dataframe\">\n",
       "  <thead>\n",
       "    <tr style=\"text-align: right;\">\n",
       "      <th></th>\n",
       "      <th>userId</th>\n",
       "      <th>title</th>\n",
       "      <th>rating</th>\n",
       "    </tr>\n",
       "  </thead>\n",
       "  <tbody>\n",
       "    <tr>\n",
       "      <th>0</th>\n",
       "      <td>196</td>\n",
       "      <td>Kolya (1996)</td>\n",
       "      <td>3</td>\n",
       "    </tr>\n",
       "    <tr>\n",
       "      <th>1</th>\n",
       "      <td>63</td>\n",
       "      <td>Kolya (1996)</td>\n",
       "      <td>3</td>\n",
       "    </tr>\n",
       "    <tr>\n",
       "      <th>2</th>\n",
       "      <td>226</td>\n",
       "      <td>Kolya (1996)</td>\n",
       "      <td>5</td>\n",
       "    </tr>\n",
       "    <tr>\n",
       "      <th>3</th>\n",
       "      <td>154</td>\n",
       "      <td>Kolya (1996)</td>\n",
       "      <td>3</td>\n",
       "    </tr>\n",
       "    <tr>\n",
       "      <th>4</th>\n",
       "      <td>306</td>\n",
       "      <td>Kolya (1996)</td>\n",
       "      <td>5</td>\n",
       "    </tr>\n",
       "  </tbody>\n",
       "</table>\n",
       "</div>"
      ],
      "text/plain": [
       "   userId         title  rating\n",
       "0     196  Kolya (1996)       3\n",
       "1      63  Kolya (1996)       3\n",
       "2     226  Kolya (1996)       5\n",
       "3     154  Kolya (1996)       3\n",
       "4     306  Kolya (1996)       5"
      ]
     },
     "execution_count": 15,
     "metadata": {},
     "output_type": "execute_result"
    }
   ],
   "source": [
    "# toPandas() changes the view to pandas style\n",
    "df.limit(5).toPandas()"
   ]
  },
  {
   "cell_type": "code",
   "execution_count": 16,
   "id": "4fe40a45-bafe-4a50-84cd-d0371502b3bb",
   "metadata": {},
   "outputs": [
    {
     "name": "stdout",
     "output_type": "stream",
     "text": [
      "root\n",
      " |-- userId: integer (nullable = true)\n",
      " |-- title: string (nullable = true)\n",
      " |-- rating: integer (nullable = true)\n",
      "\n"
     ]
    }
   ],
   "source": [
    "# printSchema gives the quick view of the datatypes\n",
    "df.printSchema()"
   ]
  },
  {
   "cell_type": "code",
   "execution_count": 20,
   "id": "a9d59ae8-97b9-4ff1-8327-a3c9b19f6e07",
   "metadata": {},
   "outputs": [
    {
     "data": {
      "text/html": [
       "<div>\n",
       "<style scoped>\n",
       "    .dataframe tbody tr th:only-of-type {\n",
       "        vertical-align: middle;\n",
       "    }\n",
       "\n",
       "    .dataframe tbody tr th {\n",
       "        vertical-align: top;\n",
       "    }\n",
       "\n",
       "    .dataframe thead th {\n",
       "        text-align: right;\n",
       "    }\n",
       "</style>\n",
       "<table border=\"1\" class=\"dataframe\">\n",
       "  <thead>\n",
       "    <tr style=\"text-align: right;\">\n",
       "      <th></th>\n",
       "      <th>userId</th>\n",
       "      <th>title</th>\n",
       "      <th>rating</th>\n",
       "      <th>title_new</th>\n",
       "    </tr>\n",
       "  </thead>\n",
       "  <tbody>\n",
       "    <tr>\n",
       "      <th>0</th>\n",
       "      <td>196</td>\n",
       "      <td>Kolya (1996)</td>\n",
       "      <td>3</td>\n",
       "      <td>287.0</td>\n",
       "    </tr>\n",
       "    <tr>\n",
       "      <th>1</th>\n",
       "      <td>63</td>\n",
       "      <td>Kolya (1996)</td>\n",
       "      <td>3</td>\n",
       "      <td>287.0</td>\n",
       "    </tr>\n",
       "    <tr>\n",
       "      <th>2</th>\n",
       "      <td>226</td>\n",
       "      <td>Kolya (1996)</td>\n",
       "      <td>5</td>\n",
       "      <td>287.0</td>\n",
       "    </tr>\n",
       "    <tr>\n",
       "      <th>3</th>\n",
       "      <td>154</td>\n",
       "      <td>Kolya (1996)</td>\n",
       "      <td>3</td>\n",
       "      <td>287.0</td>\n",
       "    </tr>\n",
       "    <tr>\n",
       "      <th>4</th>\n",
       "      <td>306</td>\n",
       "      <td>Kolya (1996)</td>\n",
       "      <td>5</td>\n",
       "      <td>287.0</td>\n",
       "    </tr>\n",
       "  </tbody>\n",
       "</table>\n",
       "</div>"
      ],
      "text/plain": [
       "   userId         title  rating  title_new\n",
       "0     196  Kolya (1996)       3      287.0\n",
       "1      63  Kolya (1996)       3      287.0\n",
       "2     226  Kolya (1996)       5      287.0\n",
       "3     154  Kolya (1996)       3      287.0\n",
       "4     306  Kolya (1996)       5      287.0"
      ]
     },
     "execution_count": 20,
     "metadata": {},
     "output_type": "execute_result"
    }
   ],
   "source": [
    "# Convert string values to numeric\n",
    "\n",
    "stringIndexer = StringIndexer(inputCol='title', outputCol='title_new')\n",
    "model = stringIndexer.fit(df)\n",
    "indexed = model.transform(df) # new dataframe with transformed values\n",
    "indexed.limit(5).toPandas()"
   ]
  },
  {
   "cell_type": "code",
   "execution_count": 21,
   "id": "090b0126-b089-42ec-b92c-daef1012ee30",
   "metadata": {},
   "outputs": [],
   "source": [
    "# split the dataset into train and test\n",
    "train, test = indexed.randomSplit([0.75, 0.25])"
   ]
  },
  {
   "cell_type": "code",
   "execution_count": 22,
   "id": "039c9ad3-be38-481d-9a31-0c30d9909136",
   "metadata": {},
   "outputs": [],
   "source": [
    "from pyspark.ml.recommendation import ALS"
   ]
  },
  {
   "cell_type": "code",
   "execution_count": 23,
   "id": "7a873a13-97c6-4d81-94d3-4684107a82d7",
   "metadata": {},
   "outputs": [],
   "source": [
    "# configure the recommender model using train dataset\n",
    "rec = ALS (maxIter = 10,\n",
    "           regParam=0.01,\n",
    "           userCol='userId',\n",
    "           itemCol='title_new',\n",
    "           ratingCol='rating',\n",
    "           nonnegative=True,\n",
    "           coldStartStrategy='drop'\n",
    "            )"
   ]
  },
  {
   "cell_type": "code",
   "execution_count": 24,
   "id": "b8e28da9-20e0-4b21-a3f9-779d5019ef80",
   "metadata": {},
   "outputs": [],
   "source": [
    "# fit the model on the train set\n",
    "rec_model = rec.fit(train)"
   ]
  },
  {
   "cell_type": "code",
   "execution_count": 26,
   "id": "db960d63-6ad0-4c83-b28e-be2575fa2971",
   "metadata": {},
   "outputs": [
    {
     "data": {
      "text/html": [
       "<div>\n",
       "<style scoped>\n",
       "    .dataframe tbody tr th:only-of-type {\n",
       "        vertical-align: middle;\n",
       "    }\n",
       "\n",
       "    .dataframe tbody tr th {\n",
       "        vertical-align: top;\n",
       "    }\n",
       "\n",
       "    .dataframe thead th {\n",
       "        text-align: right;\n",
       "    }\n",
       "</style>\n",
       "<table border=\"1\" class=\"dataframe\">\n",
       "  <thead>\n",
       "    <tr style=\"text-align: right;\">\n",
       "      <th></th>\n",
       "      <th>userId</th>\n",
       "      <th>title</th>\n",
       "      <th>rating</th>\n",
       "      <th>title_new</th>\n",
       "      <th>prediction</th>\n",
       "    </tr>\n",
       "  </thead>\n",
       "  <tbody>\n",
       "    <tr>\n",
       "      <th>0</th>\n",
       "      <td>85</td>\n",
       "      <td>Much Ado About Nothing (1993)</td>\n",
       "      <td>4</td>\n",
       "      <td>148.0</td>\n",
       "      <td>3.868219</td>\n",
       "    </tr>\n",
       "    <tr>\n",
       "      <th>1</th>\n",
       "      <td>883</td>\n",
       "      <td>Much Ado About Nothing (1993)</td>\n",
       "      <td>3</td>\n",
       "      <td>148.0</td>\n",
       "      <td>4.329245</td>\n",
       "    </tr>\n",
       "    <tr>\n",
       "      <th>2</th>\n",
       "      <td>436</td>\n",
       "      <td>Much Ado About Nothing (1993)</td>\n",
       "      <td>5</td>\n",
       "      <td>148.0</td>\n",
       "      <td>4.137500</td>\n",
       "    </tr>\n",
       "    <tr>\n",
       "      <th>3</th>\n",
       "      <td>844</td>\n",
       "      <td>Much Ado About Nothing (1993)</td>\n",
       "      <td>5</td>\n",
       "      <td>148.0</td>\n",
       "      <td>3.765724</td>\n",
       "    </tr>\n",
       "    <tr>\n",
       "      <th>4</th>\n",
       "      <td>727</td>\n",
       "      <td>Much Ado About Nothing (1993)</td>\n",
       "      <td>5</td>\n",
       "      <td>148.0</td>\n",
       "      <td>3.497217</td>\n",
       "    </tr>\n",
       "  </tbody>\n",
       "</table>\n",
       "</div>"
      ],
      "text/plain": [
       "   userId                          title  rating  title_new  prediction\n",
       "0      85  Much Ado About Nothing (1993)       4      148.0    3.868219\n",
       "1     883  Much Ado About Nothing (1993)       3      148.0    4.329245\n",
       "2     436  Much Ado About Nothing (1993)       5      148.0    4.137500\n",
       "3     844  Much Ado About Nothing (1993)       5      148.0    3.765724\n",
       "4     727  Much Ado About Nothing (1993)       5      148.0    3.497217"
      ]
     },
     "execution_count": 26,
     "metadata": {},
     "output_type": "execute_result"
    }
   ],
   "source": [
    "# make predictions on the test set\n",
    "predicted_ratings = rec_model.transform(test)\n",
    "predicted_ratings.limit(5).toPandas()"
   ]
  },
  {
   "cell_type": "markdown",
   "id": "24cbaa98-5eee-40b2-a4f1-ec366434c7ca",
   "metadata": {},
   "source": [
    "## EVALUATE THE TRAINING"
   ]
  },
  {
   "cell_type": "code",
   "execution_count": 27,
   "id": "985b2474-dc6b-4c6f-a85e-922c36a44e4b",
   "metadata": {},
   "outputs": [
    {
     "name": "stdout",
     "output_type": "stream",
     "text": [
      "1.0267767536366257\n"
     ]
    }
   ],
   "source": [
    "# import regression evaluator for calculating RMSE\n",
    "from pyspark.ml.evaluation import RegressionEvaluator\n",
    "\n",
    "# create regressor evaluator to measure accuracy\n",
    "evaluator = RegressionEvaluator(metricName='rmse', predictionCol='prediction', labelCol='rating')\n",
    "rmse=evaluator.evaluate(predicted_ratings)\n",
    "print(rmse)"
   ]
  },
  {
   "cell_type": "code",
   "execution_count": 28,
   "id": "6d575db5-846d-4ae0-af1b-f31528074a14",
   "metadata": {},
   "outputs": [],
   "source": [
    "# Create dataset of distinct movies\n",
    "unique_movies=indexed.select('title_new').distinct()"
   ]
  },
  {
   "cell_type": "code",
   "execution_count": 57,
   "id": "891f7dc5-77ec-43ef-a4cc-86bc4e7ee392",
   "metadata": {},
   "outputs": [],
   "source": [
    "def top_movies(user_id, n):\n",
    "    \"\"\"\n",
    "        Returns the top n movies corresponding to the user_id\n",
    "    \"\"\"\n",
    "    \n",
    "    a = unique_movies.alias('a')\n",
    "    \n",
    "    # create dataframe of watched movies by active user \n",
    "    watched_movies = indexed.filter(indexed['userId'] == user_id).select('title_new')\n",
    "\n",
    "    b=watched_movies.alias('b')\n",
    "    \n",
    "    total_movies = a.join(b, a.title_new==b.title_new, how='left')\n",
    "    \n",
    "    # selecting movies which active user is yet to watch\n",
    "    remaining_movies = total_movies.where(col(\"b.title_new\").isNull()).select(a.title_new).distinct()\n",
    "    \n",
    "    # adding new column of user_id to remaining movies\n",
    "    remaining_movies = remaining_movies.withColumn('userId', lit(int(user_id)))\n",
    "    \n",
    "    # making recommendations using the model and providing top-n recommendations\n",
    "    recommendations = rec_model.transform(remaining_movies).orderBy('prediction', ascending=False).limit(n)\n",
    "    \n",
    "    # adding columns of movie titles in recommendations\n",
    "    movie_title = IndexToString(inputCol='title_new', outputCol='title', labels=model.labels)\n",
    "    final_recommendations = movie_title.transform(recommendations)\n",
    "    \n",
    "    # return recommendations of active users\n",
    "    return final_recommendations.show(n, False)"
   ]
  },
  {
   "cell_type": "code",
   "execution_count": 58,
   "id": "68970220-7e7f-494c-8da9-da39d8ba87fb",
   "metadata": {},
   "outputs": [
    {
     "name": "stdout",
     "output_type": "stream",
     "text": [
      "+---------+------+----------+--------------------------------------+\n",
      "|title_new|userId|prediction|title                                 |\n",
      "+---------+------+----------+--------------------------------------+\n",
      "|882.0    |60    |5.792799  |Live Nude Girls (1995)                |\n",
      "|787.0    |60    |5.5554113 |Once Were Warriors (1994)             |\n",
      "|1146.0   |60    |5.5392385 |Band Wagon, The (1953)                |\n",
      "|1329.0   |60    |5.502775  |Roseanna's Grave (For Roseanna) (1997)|\n",
      "|1390.0   |60    |5.404863  |Perfect Candidate, A (1996)           |\n",
      "+---------+------+----------+--------------------------------------+\n",
      "\n"
     ]
    }
   ],
   "source": [
    "top_movies(60, 5)"
   ]
  },
  {
   "cell_type": "code",
   "execution_count": 59,
   "id": "00446790-db24-4e37-8c06-d103012c0588",
   "metadata": {},
   "outputs": [
    {
     "name": "stdout",
     "output_type": "stream",
     "text": [
      "+---------+------+----------+-------------------------+\n",
      "|title_new|userId|prediction|title                    |\n",
      "+---------+------+----------+-------------------------+\n",
      "|1277.0   |85    |6.125114  |Mina Tannenbaum (1994)   |\n",
      "|1347.0   |85    |5.927028  |Angel Baby (1995)        |\n",
      "|1411.0   |85    |4.993579  |Boys, Les (1997)         |\n",
      "|882.0    |85    |4.8894725 |Live Nude Girls (1995)   |\n",
      "|1306.0   |85    |4.8636675 |Faust (1994)             |\n",
      "|663.0    |85    |4.6844544 |When We Were Kings (1996)|\n",
      "|1207.0   |85    |4.6738634 |Aparajito (1956)         |\n",
      "|654.0    |85    |4.4727798 |M (1931)                 |\n",
      "|752.0    |85    |4.4661064 |Lost Horizon (1937)      |\n",
      "|1135.0   |85    |4.4500995 |Ponette (1996)           |\n",
      "+---------+------+----------+-------------------------+\n",
      "\n"
     ]
    }
   ],
   "source": [
    "top_movies(85,10)"
   ]
  },
  {
   "cell_type": "code",
   "execution_count": null,
   "id": "74f2f035-32e0-4be2-b014-8a978ab12cda",
   "metadata": {},
   "outputs": [],
   "source": []
  },
  {
   "cell_type": "code",
   "execution_count": null,
   "id": "3f4d65cc-55e2-4cd5-bb19-91b682a66f19",
   "metadata": {},
   "outputs": [],
   "source": []
  },
  {
   "cell_type": "code",
   "execution_count": null,
   "id": "a138f918-cd90-4274-a0fb-ed4a3ac108d1",
   "metadata": {},
   "outputs": [],
   "source": []
  },
  {
   "cell_type": "code",
   "execution_count": null,
   "id": "2cb0dd11-1d1c-4104-83f0-e19a4f952b35",
   "metadata": {},
   "outputs": [],
   "source": []
  }
 ],
 "metadata": {
  "kernelspec": {
   "display_name": "PysparkEnv",
   "language": "python",
   "name": "pysparkenv"
  },
  "language_info": {
   "codemirror_mode": {
    "name": "ipython",
    "version": 3
   },
   "file_extension": ".py",
   "mimetype": "text/x-python",
   "name": "python",
   "nbconvert_exporter": "python",
   "pygments_lexer": "ipython3",
   "version": "3.10.4"
  }
 },
 "nbformat": 4,
 "nbformat_minor": 5
}
